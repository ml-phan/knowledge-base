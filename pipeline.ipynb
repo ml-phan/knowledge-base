{
 "cells": [
  {
   "cell_type": "code",
   "execution_count": null,
   "outputs": [],
   "source": [
    "!pip3 install elasticsearch"
   ],
   "metadata": {
    "collapsed": false
   }
  },
  {
   "cell_type": "code",
   "execution_count": 1,
   "metadata": {
    "collapsed": true
   },
   "outputs": [],
   "source": [
    "import pandas as pd\n",
    "import os, json\n",
    "import requests"
   ]
  },
  {
   "cell_type": "code",
   "execution_count": 10,
   "outputs": [
    {
     "data": {
      "text/plain": "'\\ndocuments = [\\n    {\\n        \"_id\": \"id\",  #\\n        \"document_uri\": \"uri\", #from df\\n        \"document \": \"document\", # from df,\\n        \"tags\": [], # groupby uri -> concatenated lists of tags\\n        \"annotations\": [ # groupby uri -> each row is dict for the columns \"text\", \"tags\", \"target\", \"links\"\\n            {\\n                \"ann_id\": \"id from the row\"\\n                \"tags\": []\\n                \"target\": [],\\n                \"text\": str,\\n                \"links\": dict\\n            }, {\\n\\n            }\\n        ]\\n    }\\n]\\n'"
     },
     "execution_count": 10,
     "metadata": {},
     "output_type": "execute_result"
    }
   ],
   "source": [
    "'''\n",
    "documents = [\n",
    "    {\n",
    "        \"_id\": \"id\",  #\n",
    "        \"document_uri\": \"uri\", #from df\n",
    "        \"document \": \"document\", # from df,\n",
    "        \"tags\": [], # groupby uri -> concatenated lists of tags\n",
    "        \"annotations\": [ # groupby uri -> each row is dict for the columns \"text\", \"tags\", \"target\", \"links\"\n",
    "            {\n",
    "                \"ann_id\": \"id from the row\"\n",
    "                \"tags\": []\n",
    "                \"target\": [],\n",
    "                \"text\": str,\n",
    "                \"links\": dict\n",
    "            }, {\n",
    "\n",
    "            }\n",
    "        ]\n",
    "    }\n",
    "]\n",
    "'''"
   ],
   "metadata": {
    "collapsed": false
   }
  },
  {
   "cell_type": "code",
   "execution_count": 2,
   "outputs": [],
   "source": [
    "import hashlib\n",
    "\n",
    "\n",
    "# Utils\n",
    "def generate_id(string: str):\n",
    "    return hashlib.sha1(string.encode(\"utf-8\")).hexdigest()"
   ],
   "metadata": {
    "collapsed": false
   }
  },
  {
   "cell_type": "code",
   "execution_count": 3,
   "outputs": [],
   "source": [
    "df = pd.read_json('hypothesis_v1__12-03-22.jsonl', orient='records', lines=True)\n"
   ],
   "metadata": {
    "collapsed": false
   }
  },
  {
   "cell_type": "code",
   "execution_count": 4,
   "outputs": [
    {
     "data": {
      "text/plain": "                           id                           created  \\\n0      98Ms_oJLEeqbQuNZQjVbAg  2020-04-19T14:42:17.751689+00:00   \n1      915IIIJLEeqpiR84gpGFyQ  2020-04-19T14:42:17.192827+00:00   \n2      9yV4JIJLEeqSnPuUlknzzQ  2020-04-19T14:42:16.801220+00:00   \n3      9smAKIJLEeq6HveQAipo6g  2020-04-19T14:42:16.156297+00:00   \n4      9oZlroJLEeqbQSs8lamtlQ  2020-04-19T14:42:15.751624+00:00   \n...                       ...                               ...   \n44263  IqqGzNZdEeu7qW8TVqQlWA  2021-06-26T09:01:46.663954+00:00   \n44264  GzcHitZdEeu3utsN1zIlXA  2021-06-26T09:01:34.146545+00:00   \n44265  tkTclNZcEeu7dhcV5i6TGA  2021-06-26T08:58:44.804883+00:00   \n44266  p5oL9tZcEeuXK79Bg_WtoA  2021-06-26T08:58:20.188404+00:00   \n44267  -eARsNZZEeu-amPoGgaXSg  2021-06-26T08:39:09.738999+00:00   \n\n                                updated                            user  \\\n0      2020-04-19T14:42:17.751689+00:00   acct:stefanherzog@hypothes.is   \n1      2020-04-19T14:42:17.192827+00:00   acct:stefanherzog@hypothes.is   \n2      2020-04-19T14:42:16.801220+00:00   acct:stefanherzog@hypothes.is   \n3      2020-04-19T14:42:16.156297+00:00   acct:stefanherzog@hypothes.is   \n4      2020-04-19T14:42:15.751624+00:00   acct:stefanherzog@hypothes.is   \n...                                 ...                             ...   \n44263  2021-06-26T09:01:46.663954+00:00  acct:lucyparfitt16@hypothes.is   \n44264  2021-06-26T09:01:34.146545+00:00  acct:lucyparfitt16@hypothes.is   \n44265  2021-06-26T08:58:44.804883+00:00  acct:lucyparfitt16@hypothes.is   \n44266  2021-06-26T08:58:20.188404+00:00  acct:lucyparfitt16@hypothes.is   \n44267  2021-06-26T08:39:09.738999+00:00  acct:lucyparfitt16@hypothes.is   \n\n                                                     uri  \\\n0      http://rocs.hu-berlin.de/corona/docs/forecast/...   \n1      https://www.reddit.com/r/BehSciResearch/commen...   \n2      http://www.the100.ci/2020/03/26/crisis-researc...   \n3      https://www.ncbi.nlm.nih.gov/research/coronavi...   \n4      http://www.the100.ci/2020/03/26/crisis-researc...   \n...                                                  ...   \n44263  https://poseidon01.ssrn.com/delivery.php?ID=05...   \n44264  https://poseidon01.ssrn.com/delivery.php?ID=05...   \n44265  https://poseidon01.ssrn.com/delivery.php?ID=05...   \n44266  https://poseidon01.ssrn.com/delivery.php?ID=05...   \n44267  https://252f2edd-1c8b-49f5-9bb2-cb57bb47e4ba.f...   \n\n                                                    text  \\\n0                                                          \n1                                                          \n2                                                          \n3                                                          \n4                                                          \n...                                                  ...   \n44263                                         2021-03-31   \n44264  Parry, H. M., Tut, G., Faustini, S., Stephens,...   \n44265                                                      \n44266                                                      \n44267               https://www.counterhate.com/playbook   \n\n                                                    tags     group  \\\n0                       [models, epidemiology, forecast]  Jk8bYJdN   \n1                       [literature, research, curation]  Jk8bYJdN   \n2                                                     []  Jk8bYJdN   \n3                       [literature, research, curation]  Jk8bYJdN   \n4                                                     []  Jk8bYJdN   \n...                                                  ...       ...   \n44263                                         [has:date]  Jk8bYJdN   \n44264  [is:preprint, lang:en, COVID-19, vaccine, immu...  Jk8bYJdN   \n44265                                      [ann:summary]  Jk8bYJdN   \n44266                                        [ann:title]  Jk8bYJdN   \n44267                                      [has:context]  Jk8bYJdN   \n\n                                             permissions  \\\n0      {'read': ['group:__world__'], 'admin': ['acct:...   \n1      {'read': ['group:__world__'], 'admin': ['acct:...   \n2      {'read': ['group:__world__'], 'admin': ['acct:...   \n3      {'read': ['group:__world__'], 'admin': ['acct:...   \n4      {'read': ['group:__world__'], 'admin': ['acct:...   \n...                                                  ...   \n44263  {'read': ['group:__world__'], 'admin': ['acct:...   \n44264  {'read': ['group:__world__'], 'admin': ['acct:...   \n44265  {'read': ['group:__world__'], 'admin': ['acct:...   \n44266  {'read': ['group:__world__'], 'admin': ['acct:...   \n44267  {'read': ['group:__world__'], 'admin': ['acct:...   \n\n                                                  target  \\\n0      [{'source': 'http://rocs.hu-berlin.de/corona/d...   \n1      [{'source': 'https://www.reddit.com/r/BehSciRe...   \n2      [{'source': 'http://www.the100.ci/2020/03/26/c...   \n3      [{'source': 'https://www.ncbi.nlm.nih.gov/rese...   \n4      [{'source': 'http://www.the100.ci/2020/03/26/c...   \n...                                                  ...   \n44263  [{'source': 'https://poseidon01.ssrn.com/deliv...   \n44264  [{'source': 'https://poseidon01.ssrn.com/deliv...   \n44265  [{'source': 'https://poseidon01.ssrn.com/deliv...   \n44266  [{'source': 'https://poseidon01.ssrn.com/deliv...   \n44267  [{'source': 'https://252f2edd-1c8b-49f5-9bb2-c...   \n\n                                                document  \\\n0                    {'title': ['Forecasts by Country']}   \n1      {'title': ['r/BehSciResearch - LitCovid: Curat...   \n2          {'title': ['Crisis research, fast and slow']}   \n3             {'title': ['LitCovid - NCBI - NLM - NIH']}   \n4          {'title': ['Crisis research, fast and slow']}   \n...                                                  ...   \n44263   {'title': ['Microsoft Word - Parry et al.docx']}   \n44264   {'title': ['Microsoft Word - Parry et al.docx']}   \n44265   {'title': ['Microsoft Word - Parry et al.docx']}   \n44266   {'title': ['Microsoft Word - Parry et al.docx']}   \n44267  {'title': ['f4d9b9_fddbfb2a0c05461cb4bdce2892f...   \n\n                                                   links  \\\n0      {'html': 'https://hypothes.is/a/98Ms_oJLEeqbQu...   \n1      {'html': 'https://hypothes.is/a/915IIIJLEeqpiR...   \n2      {'html': 'https://hypothes.is/a/9yV4JIJLEeqSnP...   \n3      {'html': 'https://hypothes.is/a/9smAKIJLEeq6Hv...   \n4      {'html': 'https://hypothes.is/a/9oZlroJLEeqbQS...   \n...                                                  ...   \n44263  {'html': 'https://hypothes.is/a/IqqGzNZdEeu7qW...   \n44264  {'html': 'https://hypothes.is/a/GzcHitZdEeu3ut...   \n44265  {'html': 'https://hypothes.is/a/tkTclNZcEeu7dh...   \n44266  {'html': 'https://hypothes.is/a/p5oL9tZcEeuXK7...   \n44267  {'html': 'https://hypothes.is/a/-eARsNZZEeu-am...   \n\n                               user_info  flagged  hidden  \n0      {'display_name': 'Stefan Herzog'}    False   False  \n1      {'display_name': 'Stefan Herzog'}    False   False  \n2      {'display_name': 'Stefan Herzog'}    False   False  \n3      {'display_name': 'Stefan Herzog'}    False   False  \n4      {'display_name': 'Stefan Herzog'}    False   False  \n...                                  ...      ...     ...  \n44263             {'display_name': None}    False   False  \n44264             {'display_name': None}    False   False  \n44265             {'display_name': None}    False   False  \n44266             {'display_name': None}    False   False  \n44267             {'display_name': None}    False   False  \n\n[44268 rows x 15 columns]",
      "text/html": "<div>\n<style scoped>\n    .dataframe tbody tr th:only-of-type {\n        vertical-align: middle;\n    }\n\n    .dataframe tbody tr th {\n        vertical-align: top;\n    }\n\n    .dataframe thead th {\n        text-align: right;\n    }\n</style>\n<table border=\"1\" class=\"dataframe\">\n  <thead>\n    <tr style=\"text-align: right;\">\n      <th></th>\n      <th>id</th>\n      <th>created</th>\n      <th>updated</th>\n      <th>user</th>\n      <th>uri</th>\n      <th>text</th>\n      <th>tags</th>\n      <th>group</th>\n      <th>permissions</th>\n      <th>target</th>\n      <th>document</th>\n      <th>links</th>\n      <th>user_info</th>\n      <th>flagged</th>\n      <th>hidden</th>\n    </tr>\n  </thead>\n  <tbody>\n    <tr>\n      <th>0</th>\n      <td>98Ms_oJLEeqbQuNZQjVbAg</td>\n      <td>2020-04-19T14:42:17.751689+00:00</td>\n      <td>2020-04-19T14:42:17.751689+00:00</td>\n      <td>acct:stefanherzog@hypothes.is</td>\n      <td>http://rocs.hu-berlin.de/corona/docs/forecast/...</td>\n      <td></td>\n      <td>[models, epidemiology, forecast]</td>\n      <td>Jk8bYJdN</td>\n      <td>{'read': ['group:__world__'], 'admin': ['acct:...</td>\n      <td>[{'source': 'http://rocs.hu-berlin.de/corona/d...</td>\n      <td>{'title': ['Forecasts by Country']}</td>\n      <td>{'html': 'https://hypothes.is/a/98Ms_oJLEeqbQu...</td>\n      <td>{'display_name': 'Stefan Herzog'}</td>\n      <td>False</td>\n      <td>False</td>\n    </tr>\n    <tr>\n      <th>1</th>\n      <td>915IIIJLEeqpiR84gpGFyQ</td>\n      <td>2020-04-19T14:42:17.192827+00:00</td>\n      <td>2020-04-19T14:42:17.192827+00:00</td>\n      <td>acct:stefanherzog@hypothes.is</td>\n      <td>https://www.reddit.com/r/BehSciResearch/commen...</td>\n      <td></td>\n      <td>[literature, research, curation]</td>\n      <td>Jk8bYJdN</td>\n      <td>{'read': ['group:__world__'], 'admin': ['acct:...</td>\n      <td>[{'source': 'https://www.reddit.com/r/BehSciRe...</td>\n      <td>{'title': ['r/BehSciResearch - LitCovid: Curat...</td>\n      <td>{'html': 'https://hypothes.is/a/915IIIJLEeqpiR...</td>\n      <td>{'display_name': 'Stefan Herzog'}</td>\n      <td>False</td>\n      <td>False</td>\n    </tr>\n    <tr>\n      <th>2</th>\n      <td>9yV4JIJLEeqSnPuUlknzzQ</td>\n      <td>2020-04-19T14:42:16.801220+00:00</td>\n      <td>2020-04-19T14:42:16.801220+00:00</td>\n      <td>acct:stefanherzog@hypothes.is</td>\n      <td>http://www.the100.ci/2020/03/26/crisis-researc...</td>\n      <td></td>\n      <td>[]</td>\n      <td>Jk8bYJdN</td>\n      <td>{'read': ['group:__world__'], 'admin': ['acct:...</td>\n      <td>[{'source': 'http://www.the100.ci/2020/03/26/c...</td>\n      <td>{'title': ['Crisis research, fast and slow']}</td>\n      <td>{'html': 'https://hypothes.is/a/9yV4JIJLEeqSnP...</td>\n      <td>{'display_name': 'Stefan Herzog'}</td>\n      <td>False</td>\n      <td>False</td>\n    </tr>\n    <tr>\n      <th>3</th>\n      <td>9smAKIJLEeq6HveQAipo6g</td>\n      <td>2020-04-19T14:42:16.156297+00:00</td>\n      <td>2020-04-19T14:42:16.156297+00:00</td>\n      <td>acct:stefanherzog@hypothes.is</td>\n      <td>https://www.ncbi.nlm.nih.gov/research/coronavi...</td>\n      <td></td>\n      <td>[literature, research, curation]</td>\n      <td>Jk8bYJdN</td>\n      <td>{'read': ['group:__world__'], 'admin': ['acct:...</td>\n      <td>[{'source': 'https://www.ncbi.nlm.nih.gov/rese...</td>\n      <td>{'title': ['LitCovid - NCBI - NLM - NIH']}</td>\n      <td>{'html': 'https://hypothes.is/a/9smAKIJLEeq6Hv...</td>\n      <td>{'display_name': 'Stefan Herzog'}</td>\n      <td>False</td>\n      <td>False</td>\n    </tr>\n    <tr>\n      <th>4</th>\n      <td>9oZlroJLEeqbQSs8lamtlQ</td>\n      <td>2020-04-19T14:42:15.751624+00:00</td>\n      <td>2020-04-19T14:42:15.751624+00:00</td>\n      <td>acct:stefanherzog@hypothes.is</td>\n      <td>http://www.the100.ci/2020/03/26/crisis-researc...</td>\n      <td></td>\n      <td>[]</td>\n      <td>Jk8bYJdN</td>\n      <td>{'read': ['group:__world__'], 'admin': ['acct:...</td>\n      <td>[{'source': 'http://www.the100.ci/2020/03/26/c...</td>\n      <td>{'title': ['Crisis research, fast and slow']}</td>\n      <td>{'html': 'https://hypothes.is/a/9oZlroJLEeqbQS...</td>\n      <td>{'display_name': 'Stefan Herzog'}</td>\n      <td>False</td>\n      <td>False</td>\n    </tr>\n    <tr>\n      <th>...</th>\n      <td>...</td>\n      <td>...</td>\n      <td>...</td>\n      <td>...</td>\n      <td>...</td>\n      <td>...</td>\n      <td>...</td>\n      <td>...</td>\n      <td>...</td>\n      <td>...</td>\n      <td>...</td>\n      <td>...</td>\n      <td>...</td>\n      <td>...</td>\n      <td>...</td>\n    </tr>\n    <tr>\n      <th>44263</th>\n      <td>IqqGzNZdEeu7qW8TVqQlWA</td>\n      <td>2021-06-26T09:01:46.663954+00:00</td>\n      <td>2021-06-26T09:01:46.663954+00:00</td>\n      <td>acct:lucyparfitt16@hypothes.is</td>\n      <td>https://poseidon01.ssrn.com/delivery.php?ID=05...</td>\n      <td>2021-03-31</td>\n      <td>[has:date]</td>\n      <td>Jk8bYJdN</td>\n      <td>{'read': ['group:__world__'], 'admin': ['acct:...</td>\n      <td>[{'source': 'https://poseidon01.ssrn.com/deliv...</td>\n      <td>{'title': ['Microsoft Word - Parry et al.docx']}</td>\n      <td>{'html': 'https://hypothes.is/a/IqqGzNZdEeu7qW...</td>\n      <td>{'display_name': None}</td>\n      <td>False</td>\n      <td>False</td>\n    </tr>\n    <tr>\n      <th>44264</th>\n      <td>GzcHitZdEeu3utsN1zIlXA</td>\n      <td>2021-06-26T09:01:34.146545+00:00</td>\n      <td>2021-06-26T09:01:34.146545+00:00</td>\n      <td>acct:lucyparfitt16@hypothes.is</td>\n      <td>https://poseidon01.ssrn.com/delivery.php?ID=05...</td>\n      <td>Parry, H. M., Tut, G., Faustini, S., Stephens,...</td>\n      <td>[is:preprint, lang:en, COVID-19, vaccine, immu...</td>\n      <td>Jk8bYJdN</td>\n      <td>{'read': ['group:__world__'], 'admin': ['acct:...</td>\n      <td>[{'source': 'https://poseidon01.ssrn.com/deliv...</td>\n      <td>{'title': ['Microsoft Word - Parry et al.docx']}</td>\n      <td>{'html': 'https://hypothes.is/a/GzcHitZdEeu3ut...</td>\n      <td>{'display_name': None}</td>\n      <td>False</td>\n      <td>False</td>\n    </tr>\n    <tr>\n      <th>44265</th>\n      <td>tkTclNZcEeu7dhcV5i6TGA</td>\n      <td>2021-06-26T08:58:44.804883+00:00</td>\n      <td>2021-06-26T08:58:44.804883+00:00</td>\n      <td>acct:lucyparfitt16@hypothes.is</td>\n      <td>https://poseidon01.ssrn.com/delivery.php?ID=05...</td>\n      <td></td>\n      <td>[ann:summary]</td>\n      <td>Jk8bYJdN</td>\n      <td>{'read': ['group:__world__'], 'admin': ['acct:...</td>\n      <td>[{'source': 'https://poseidon01.ssrn.com/deliv...</td>\n      <td>{'title': ['Microsoft Word - Parry et al.docx']}</td>\n      <td>{'html': 'https://hypothes.is/a/tkTclNZcEeu7dh...</td>\n      <td>{'display_name': None}</td>\n      <td>False</td>\n      <td>False</td>\n    </tr>\n    <tr>\n      <th>44266</th>\n      <td>p5oL9tZcEeuXK79Bg_WtoA</td>\n      <td>2021-06-26T08:58:20.188404+00:00</td>\n      <td>2021-06-26T08:58:20.188404+00:00</td>\n      <td>acct:lucyparfitt16@hypothes.is</td>\n      <td>https://poseidon01.ssrn.com/delivery.php?ID=05...</td>\n      <td></td>\n      <td>[ann:title]</td>\n      <td>Jk8bYJdN</td>\n      <td>{'read': ['group:__world__'], 'admin': ['acct:...</td>\n      <td>[{'source': 'https://poseidon01.ssrn.com/deliv...</td>\n      <td>{'title': ['Microsoft Word - Parry et al.docx']}</td>\n      <td>{'html': 'https://hypothes.is/a/p5oL9tZcEeuXK7...</td>\n      <td>{'display_name': None}</td>\n      <td>False</td>\n      <td>False</td>\n    </tr>\n    <tr>\n      <th>44267</th>\n      <td>-eARsNZZEeu-amPoGgaXSg</td>\n      <td>2021-06-26T08:39:09.738999+00:00</td>\n      <td>2021-06-26T08:39:09.738999+00:00</td>\n      <td>acct:lucyparfitt16@hypothes.is</td>\n      <td>https://252f2edd-1c8b-49f5-9bb2-cb57bb47e4ba.f...</td>\n      <td>https://www.counterhate.com/playbook</td>\n      <td>[has:context]</td>\n      <td>Jk8bYJdN</td>\n      <td>{'read': ['group:__world__'], 'admin': ['acct:...</td>\n      <td>[{'source': 'https://252f2edd-1c8b-49f5-9bb2-c...</td>\n      <td>{'title': ['f4d9b9_fddbfb2a0c05461cb4bdce2892f...</td>\n      <td>{'html': 'https://hypothes.is/a/-eARsNZZEeu-am...</td>\n      <td>{'display_name': None}</td>\n      <td>False</td>\n      <td>False</td>\n    </tr>\n  </tbody>\n</table>\n<p>44268 rows × 15 columns</p>\n</div>"
     },
     "execution_count": 4,
     "metadata": {},
     "output_type": "execute_result"
    }
   ],
   "source": [
    "df"
   ],
   "metadata": {
    "collapsed": false
   }
  },
  {
   "cell_type": "code",
   "execution_count": 25,
   "outputs": [],
   "source": [
    "df['doc_id'] = df['uri'].apply(lambda doc: generate_id(doc))\n"
   ],
   "metadata": {
    "collapsed": false
   }
  },
  {
   "cell_type": "code",
   "execution_count": 26,
   "outputs": [],
   "source": [
    "sample = df.sample(n=1)"
   ],
   "metadata": {
    "collapsed": false
   }
  },
  {
   "cell_type": "code",
   "execution_count": 27,
   "outputs": [
    {
     "data": {
      "text/plain": "{'id': 'qz45JLvKEeqEwGdaApFroQ',\n 'created': '2020-07-01T18:42:51.701396+00:00',\n 'updated': '2020-07-01T18:42:51.701396+00:00',\n 'user': 'acct:Marlene_Wulf@hypothes.is',\n 'uri': 'https://psyarxiv.com/v36hj/',\n 'text': '2020-07-01',\n 'tags': ['has:date'],\n 'group': 'Jk8bYJdN',\n 'permissions': {'read': ['group:__world__'],\n  'admin': ['acct:Marlene_Wulf@hypothes.is'],\n  'update': ['acct:Marlene_Wulf@hypothes.is'],\n  'delete': ['acct:Marlene_Wulf@hypothes.is']},\n 'target': [{'source': 'https://psyarxiv.com/v36hj/'}],\n 'document': {'title': ['A Person-Centered Approach to Profiling COVID-Related Experiences in the United States: Preliminary Findings from the Epidemic-Pandemic Impacts Inventory (EPII)']},\n 'links': {'html': 'https://hypothes.is/a/qz45JLvKEeqEwGdaApFroQ',\n  'incontext': 'https://hyp.is/qz45JLvKEeqEwGdaApFroQ/psyarxiv.com/v36hj/',\n  'json': 'https://hypothes.is/api/annotations/qz45JLvKEeqEwGdaApFroQ'},\n 'user_info': {'display_name': None},\n 'flagged': False,\n 'hidden': False,\n 'doc_id': '4757dd93c2e05481436ffda75638d3bb38a806fe',\n 'text_': '2020-07-01',\n 'no_title': False}"
     },
     "execution_count": 27,
     "metadata": {},
     "output_type": "execute_result"
    }
   ],
   "source": [
    "sample.iloc[0].to_dict()"
   ],
   "metadata": {
    "collapsed": false
   }
  },
  {
   "cell_type": "code",
   "execution_count": 27,
   "outputs": [],
   "source": [],
   "metadata": {
    "collapsed": false
   }
  },
  {
   "cell_type": "code",
   "execution_count": 28,
   "outputs": [],
   "source": [
    "def extract_text_from_target(row):\n",
    "    if row[\"text\"] != \"\":\n",
    "        row[\"text_\"] = row[\"text\"]\n",
    "    elif \"selector\" in row[\"target\"][0]:\n",
    "        row[\"text_\"] = [s[\"exact\"] for s in row[\"target\"][0][\"selector\"] if s[\"type\"] == \"TextQuoteSelector\"][0]\n",
    "    else:\n",
    "        row[\"text_\"] = \"\"\n",
    "    return row"
   ],
   "metadata": {
    "collapsed": false
   }
  },
  {
   "cell_type": "code",
   "execution_count": 29,
   "outputs": [],
   "source": [
    "df = df.apply(lambda row: extract_text_from_target(row), axis=1)"
   ],
   "metadata": {
    "collapsed": false
   }
  },
  {
   "cell_type": "code",
   "execution_count": 30,
   "outputs": [
    {
     "data": {
      "text/plain": "                                                    text  \\\n0                                                          \n1                                                          \n2                                                          \n3                                                          \n4                                                          \n...                                                  ...   \n44263                                         2021-03-31   \n44264  Parry, H. M., Tut, G., Faustini, S., Stephens,...   \n44265                                                      \n44266                                                      \n44267               https://www.counterhate.com/playbook   \n\n                                                   text_  \n0      6-day forecasts of COVID-19 case counts by cou...  \n1      LitCovid: Curated literature hub for tracking ...  \n2             the incentives are a gallery of pure glory  \n3      LitCovid is a curated literature hub for track...  \n4      Moar errors Not just sampling error, but error...  \n...                                                  ...  \n44263                                         2021-03-31  \n44264  Parry, H. M., Tut, G., Faustini, S., Stephens,...  \n44265  BackgroundAge is the major risk factor for mor...  \n44266  1BNT162b2 vaccination in people over 80 years ...  \n44267               https://www.counterhate.com/playbook  \n\n[44268 rows x 2 columns]",
      "text/html": "<div>\n<style scoped>\n    .dataframe tbody tr th:only-of-type {\n        vertical-align: middle;\n    }\n\n    .dataframe tbody tr th {\n        vertical-align: top;\n    }\n\n    .dataframe thead th {\n        text-align: right;\n    }\n</style>\n<table border=\"1\" class=\"dataframe\">\n  <thead>\n    <tr style=\"text-align: right;\">\n      <th></th>\n      <th>text</th>\n      <th>text_</th>\n    </tr>\n  </thead>\n  <tbody>\n    <tr>\n      <th>0</th>\n      <td></td>\n      <td>6-day forecasts of COVID-19 case counts by cou...</td>\n    </tr>\n    <tr>\n      <th>1</th>\n      <td></td>\n      <td>LitCovid: Curated literature hub for tracking ...</td>\n    </tr>\n    <tr>\n      <th>2</th>\n      <td></td>\n      <td>the incentives are a gallery of pure glory</td>\n    </tr>\n    <tr>\n      <th>3</th>\n      <td></td>\n      <td>LitCovid is a curated literature hub for track...</td>\n    </tr>\n    <tr>\n      <th>4</th>\n      <td></td>\n      <td>Moar errors Not just sampling error, but error...</td>\n    </tr>\n    <tr>\n      <th>...</th>\n      <td>...</td>\n      <td>...</td>\n    </tr>\n    <tr>\n      <th>44263</th>\n      <td>2021-03-31</td>\n      <td>2021-03-31</td>\n    </tr>\n    <tr>\n      <th>44264</th>\n      <td>Parry, H. M., Tut, G., Faustini, S., Stephens,...</td>\n      <td>Parry, H. M., Tut, G., Faustini, S., Stephens,...</td>\n    </tr>\n    <tr>\n      <th>44265</th>\n      <td></td>\n      <td>BackgroundAge is the major risk factor for mor...</td>\n    </tr>\n    <tr>\n      <th>44266</th>\n      <td></td>\n      <td>1BNT162b2 vaccination in people over 80 years ...</td>\n    </tr>\n    <tr>\n      <th>44267</th>\n      <td>https://www.counterhate.com/playbook</td>\n      <td>https://www.counterhate.com/playbook</td>\n    </tr>\n  </tbody>\n</table>\n<p>44268 rows × 2 columns</p>\n</div>"
     },
     "execution_count": 30,
     "metadata": {},
     "output_type": "execute_result"
    }
   ],
   "source": [
    "df[[\"text\", \"text_\"]]"
   ],
   "metadata": {
    "collapsed": false
   }
  },
  {
   "cell_type": "code",
   "execution_count": 52,
   "outputs": [],
   "source": [
    "df['target__source'] = df['target'].apply(lambda target: target[0]['source'])\n",
    "df['source_is_uri'] = df.apply(lambda row: row['uri'] == row['target__source'], axis=1)"
   ],
   "metadata": {
    "collapsed": false
   }
  },
  {
   "cell_type": "code",
   "execution_count": 57,
   "outputs": [
    {
     "data": {
      "text/plain": "                           id                           created  \\\n0      98Ms_oJLEeqbQuNZQjVbAg  2020-04-19T14:42:17.751689+00:00   \n1      915IIIJLEeqpiR84gpGFyQ  2020-04-19T14:42:17.192827+00:00   \n2      9yV4JIJLEeqSnPuUlknzzQ  2020-04-19T14:42:16.801220+00:00   \n3      9smAKIJLEeq6HveQAipo6g  2020-04-19T14:42:16.156297+00:00   \n4      9oZlroJLEeqbQSs8lamtlQ  2020-04-19T14:42:15.751624+00:00   \n...                       ...                               ...   \n44263  IqqGzNZdEeu7qW8TVqQlWA  2021-06-26T09:01:46.663954+00:00   \n44264  GzcHitZdEeu3utsN1zIlXA  2021-06-26T09:01:34.146545+00:00   \n44265  tkTclNZcEeu7dhcV5i6TGA  2021-06-26T08:58:44.804883+00:00   \n44266  p5oL9tZcEeuXK79Bg_WtoA  2021-06-26T08:58:20.188404+00:00   \n44267  -eARsNZZEeu-amPoGgaXSg  2021-06-26T08:39:09.738999+00:00   \n\n                                updated                            user  \\\n0      2020-04-19T14:42:17.751689+00:00   acct:stefanherzog@hypothes.is   \n1      2020-04-19T14:42:17.192827+00:00   acct:stefanherzog@hypothes.is   \n2      2020-04-19T14:42:16.801220+00:00   acct:stefanherzog@hypothes.is   \n3      2020-04-19T14:42:16.156297+00:00   acct:stefanherzog@hypothes.is   \n4      2020-04-19T14:42:15.751624+00:00   acct:stefanherzog@hypothes.is   \n...                                 ...                             ...   \n44263  2021-06-26T09:01:46.663954+00:00  acct:lucyparfitt16@hypothes.is   \n44264  2021-06-26T09:01:34.146545+00:00  acct:lucyparfitt16@hypothes.is   \n44265  2021-06-26T08:58:44.804883+00:00  acct:lucyparfitt16@hypothes.is   \n44266  2021-06-26T08:58:20.188404+00:00  acct:lucyparfitt16@hypothes.is   \n44267  2021-06-26T08:39:09.738999+00:00  acct:lucyparfitt16@hypothes.is   \n\n                                                     uri  \\\n0      http://rocs.hu-berlin.de/corona/docs/forecast/...   \n1      https://www.reddit.com/r/BehSciResearch/commen...   \n2      http://www.the100.ci/2020/03/26/crisis-researc...   \n3      https://www.ncbi.nlm.nih.gov/research/coronavi...   \n4      http://www.the100.ci/2020/03/26/crisis-researc...   \n...                                                  ...   \n44263  https://poseidon01.ssrn.com/delivery.php?ID=05...   \n44264  https://poseidon01.ssrn.com/delivery.php?ID=05...   \n44265  https://poseidon01.ssrn.com/delivery.php?ID=05...   \n44266  https://poseidon01.ssrn.com/delivery.php?ID=05...   \n44267  https://252f2edd-1c8b-49f5-9bb2-cb57bb47e4ba.f...   \n\n                                                    text  \\\n0                                                          \n1                                                          \n2                                                          \n3                                                          \n4                                                          \n...                                                  ...   \n44263                                         2021-03-31   \n44264  Parry, H. M., Tut, G., Faustini, S., Stephens,...   \n44265                                                      \n44266                                                      \n44267               https://www.counterhate.com/playbook   \n\n                                                    tags     group  \\\n0                       [models, epidemiology, forecast]  Jk8bYJdN   \n1                       [literature, research, curation]  Jk8bYJdN   \n2                                                     []  Jk8bYJdN   \n3                       [literature, research, curation]  Jk8bYJdN   \n4                                                     []  Jk8bYJdN   \n...                                                  ...       ...   \n44263                                         [has:date]  Jk8bYJdN   \n44264  [is:preprint, lang:en, COVID-19, vaccine, immu...  Jk8bYJdN   \n44265                                      [ann:summary]  Jk8bYJdN   \n44266                                        [ann:title]  Jk8bYJdN   \n44267                                      [has:context]  Jk8bYJdN   \n\n                                             permissions  \\\n0      {'read': ['group:__world__'], 'admin': ['acct:...   \n1      {'read': ['group:__world__'], 'admin': ['acct:...   \n2      {'read': ['group:__world__'], 'admin': ['acct:...   \n3      {'read': ['group:__world__'], 'admin': ['acct:...   \n4      {'read': ['group:__world__'], 'admin': ['acct:...   \n...                                                  ...   \n44263  {'read': ['group:__world__'], 'admin': ['acct:...   \n44264  {'read': ['group:__world__'], 'admin': ['acct:...   \n44265  {'read': ['group:__world__'], 'admin': ['acct:...   \n44266  {'read': ['group:__world__'], 'admin': ['acct:...   \n44267  {'read': ['group:__world__'], 'admin': ['acct:...   \n\n                                                  target  \\\n0      [{'source': 'http://rocs.hu-berlin.de/corona/d...   \n1      [{'source': 'https://www.reddit.com/r/BehSciRe...   \n2      [{'source': 'http://www.the100.ci/2020/03/26/c...   \n3      [{'source': 'https://www.ncbi.nlm.nih.gov/rese...   \n4      [{'source': 'http://www.the100.ci/2020/03/26/c...   \n...                                                  ...   \n44263  [{'source': 'https://poseidon01.ssrn.com/deliv...   \n44264  [{'source': 'https://poseidon01.ssrn.com/deliv...   \n44265  [{'source': 'https://poseidon01.ssrn.com/deliv...   \n44266  [{'source': 'https://poseidon01.ssrn.com/deliv...   \n44267  [{'source': 'https://252f2edd-1c8b-49f5-9bb2-c...   \n\n                                                document  \\\n0                    {'title': ['Forecasts by Country']}   \n1      {'title': ['r/BehSciResearch - LitCovid: Curat...   \n2          {'title': ['Crisis research, fast and slow']}   \n3             {'title': ['LitCovid - NCBI - NLM - NIH']}   \n4          {'title': ['Crisis research, fast and slow']}   \n...                                                  ...   \n44263   {'title': ['Microsoft Word - Parry et al.docx']}   \n44264   {'title': ['Microsoft Word - Parry et al.docx']}   \n44265   {'title': ['Microsoft Word - Parry et al.docx']}   \n44266   {'title': ['Microsoft Word - Parry et al.docx']}   \n44267  {'title': ['f4d9b9_fddbfb2a0c05461cb4bdce2892f...   \n\n                                                   links  \\\n0      {'html': 'https://hypothes.is/a/98Ms_oJLEeqbQu...   \n1      {'html': 'https://hypothes.is/a/915IIIJLEeqpiR...   \n2      {'html': 'https://hypothes.is/a/9yV4JIJLEeqSnP...   \n3      {'html': 'https://hypothes.is/a/9smAKIJLEeq6Hv...   \n4      {'html': 'https://hypothes.is/a/9oZlroJLEeqbQS...   \n...                                                  ...   \n44263  {'html': 'https://hypothes.is/a/IqqGzNZdEeu7qW...   \n44264  {'html': 'https://hypothes.is/a/GzcHitZdEeu3ut...   \n44265  {'html': 'https://hypothes.is/a/tkTclNZcEeu7dh...   \n44266  {'html': 'https://hypothes.is/a/p5oL9tZcEeuXK7...   \n44267  {'html': 'https://hypothes.is/a/-eARsNZZEeu-am...   \n\n                               user_info  flagged  hidden  \\\n0      {'display_name': 'Stefan Herzog'}    False   False   \n1      {'display_name': 'Stefan Herzog'}    False   False   \n2      {'display_name': 'Stefan Herzog'}    False   False   \n3      {'display_name': 'Stefan Herzog'}    False   False   \n4      {'display_name': 'Stefan Herzog'}    False   False   \n...                                  ...      ...     ...   \n44263             {'display_name': None}    False   False   \n44264             {'display_name': None}    False   False   \n44265             {'display_name': None}    False   False   \n44266             {'display_name': None}    False   False   \n44267             {'display_name': None}    False   False   \n\n                                         doc_id  \\\n0      1bae7c2fba0901589c8732057a5e03123ee18657   \n1      d5624117db7c3567bfcbddfb1b724579fb7e1eca   \n2      a30f8a303e30393880dfd0689a13f06402201842   \n3      e593d53590429e8768fe9fc7bd8a95bcb23b361f   \n4      a30f8a303e30393880dfd0689a13f06402201842   \n...                                         ...   \n44263  0a70abf8eee47b640ce4f1cb47440460aafa919f   \n44264  0a70abf8eee47b640ce4f1cb47440460aafa919f   \n44265  0a70abf8eee47b640ce4f1cb47440460aafa919f   \n44266  0a70abf8eee47b640ce4f1cb47440460aafa919f   \n44267  9669f13195da25ceb2fe9f5604d552932ca58893   \n\n                                                   text_  no_title  \\\n0      6-day forecasts of COVID-19 case counts by cou...     False   \n1      LitCovid: Curated literature hub for tracking ...     False   \n2             the incentives are a gallery of pure glory     False   \n3      LitCovid is a curated literature hub for track...     False   \n4      Moar errors Not just sampling error, but error...     False   \n...                                                  ...       ...   \n44263                                         2021-03-31     False   \n44264  Parry, H. M., Tut, G., Faustini, S., Stephens,...     False   \n44265  BackgroundAge is the major risk factor for mor...     False   \n44266  1BNT162b2 vaccination in people over 80 years ...     False   \n44267               https://www.counterhate.com/playbook     False   \n\n                                          target__source  source_is_uri  \n0      http://rocs.hu-berlin.de/corona/docs/forecast/...           True  \n1      https://www.reddit.com/r/BehSciResearch/commen...           True  \n2      http://www.the100.ci/2020/03/26/crisis-researc...           True  \n3      https://www.ncbi.nlm.nih.gov/research/coronavi...           True  \n4      http://www.the100.ci/2020/03/26/crisis-researc...           True  \n...                                                  ...            ...  \n44263  https://poseidon01.ssrn.com/delivery.php?ID=05...           True  \n44264  https://poseidon01.ssrn.com/delivery.php?ID=05...           True  \n44265  https://poseidon01.ssrn.com/delivery.php?ID=05...           True  \n44266  https://poseidon01.ssrn.com/delivery.php?ID=05...           True  \n44267  https://252f2edd-1c8b-49f5-9bb2-cb57bb47e4ba.f...           True  \n\n[44268 rows x 20 columns]",
      "text/html": "<div>\n<style scoped>\n    .dataframe tbody tr th:only-of-type {\n        vertical-align: middle;\n    }\n\n    .dataframe tbody tr th {\n        vertical-align: top;\n    }\n\n    .dataframe thead th {\n        text-align: right;\n    }\n</style>\n<table border=\"1\" class=\"dataframe\">\n  <thead>\n    <tr style=\"text-align: right;\">\n      <th></th>\n      <th>id</th>\n      <th>created</th>\n      <th>updated</th>\n      <th>user</th>\n      <th>uri</th>\n      <th>text</th>\n      <th>tags</th>\n      <th>group</th>\n      <th>permissions</th>\n      <th>target</th>\n      <th>document</th>\n      <th>links</th>\n      <th>user_info</th>\n      <th>flagged</th>\n      <th>hidden</th>\n      <th>doc_id</th>\n      <th>text_</th>\n      <th>no_title</th>\n      <th>target__source</th>\n      <th>source_is_uri</th>\n    </tr>\n  </thead>\n  <tbody>\n    <tr>\n      <th>0</th>\n      <td>98Ms_oJLEeqbQuNZQjVbAg</td>\n      <td>2020-04-19T14:42:17.751689+00:00</td>\n      <td>2020-04-19T14:42:17.751689+00:00</td>\n      <td>acct:stefanherzog@hypothes.is</td>\n      <td>http://rocs.hu-berlin.de/corona/docs/forecast/...</td>\n      <td></td>\n      <td>[models, epidemiology, forecast]</td>\n      <td>Jk8bYJdN</td>\n      <td>{'read': ['group:__world__'], 'admin': ['acct:...</td>\n      <td>[{'source': 'http://rocs.hu-berlin.de/corona/d...</td>\n      <td>{'title': ['Forecasts by Country']}</td>\n      <td>{'html': 'https://hypothes.is/a/98Ms_oJLEeqbQu...</td>\n      <td>{'display_name': 'Stefan Herzog'}</td>\n      <td>False</td>\n      <td>False</td>\n      <td>1bae7c2fba0901589c8732057a5e03123ee18657</td>\n      <td>6-day forecasts of COVID-19 case counts by cou...</td>\n      <td>False</td>\n      <td>http://rocs.hu-berlin.de/corona/docs/forecast/...</td>\n      <td>True</td>\n    </tr>\n    <tr>\n      <th>1</th>\n      <td>915IIIJLEeqpiR84gpGFyQ</td>\n      <td>2020-04-19T14:42:17.192827+00:00</td>\n      <td>2020-04-19T14:42:17.192827+00:00</td>\n      <td>acct:stefanherzog@hypothes.is</td>\n      <td>https://www.reddit.com/r/BehSciResearch/commen...</td>\n      <td></td>\n      <td>[literature, research, curation]</td>\n      <td>Jk8bYJdN</td>\n      <td>{'read': ['group:__world__'], 'admin': ['acct:...</td>\n      <td>[{'source': 'https://www.reddit.com/r/BehSciRe...</td>\n      <td>{'title': ['r/BehSciResearch - LitCovid: Curat...</td>\n      <td>{'html': 'https://hypothes.is/a/915IIIJLEeqpiR...</td>\n      <td>{'display_name': 'Stefan Herzog'}</td>\n      <td>False</td>\n      <td>False</td>\n      <td>d5624117db7c3567bfcbddfb1b724579fb7e1eca</td>\n      <td>LitCovid: Curated literature hub for tracking ...</td>\n      <td>False</td>\n      <td>https://www.reddit.com/r/BehSciResearch/commen...</td>\n      <td>True</td>\n    </tr>\n    <tr>\n      <th>2</th>\n      <td>9yV4JIJLEeqSnPuUlknzzQ</td>\n      <td>2020-04-19T14:42:16.801220+00:00</td>\n      <td>2020-04-19T14:42:16.801220+00:00</td>\n      <td>acct:stefanherzog@hypothes.is</td>\n      <td>http://www.the100.ci/2020/03/26/crisis-researc...</td>\n      <td></td>\n      <td>[]</td>\n      <td>Jk8bYJdN</td>\n      <td>{'read': ['group:__world__'], 'admin': ['acct:...</td>\n      <td>[{'source': 'http://www.the100.ci/2020/03/26/c...</td>\n      <td>{'title': ['Crisis research, fast and slow']}</td>\n      <td>{'html': 'https://hypothes.is/a/9yV4JIJLEeqSnP...</td>\n      <td>{'display_name': 'Stefan Herzog'}</td>\n      <td>False</td>\n      <td>False</td>\n      <td>a30f8a303e30393880dfd0689a13f06402201842</td>\n      <td>the incentives are a gallery of pure glory</td>\n      <td>False</td>\n      <td>http://www.the100.ci/2020/03/26/crisis-researc...</td>\n      <td>True</td>\n    </tr>\n    <tr>\n      <th>3</th>\n      <td>9smAKIJLEeq6HveQAipo6g</td>\n      <td>2020-04-19T14:42:16.156297+00:00</td>\n      <td>2020-04-19T14:42:16.156297+00:00</td>\n      <td>acct:stefanherzog@hypothes.is</td>\n      <td>https://www.ncbi.nlm.nih.gov/research/coronavi...</td>\n      <td></td>\n      <td>[literature, research, curation]</td>\n      <td>Jk8bYJdN</td>\n      <td>{'read': ['group:__world__'], 'admin': ['acct:...</td>\n      <td>[{'source': 'https://www.ncbi.nlm.nih.gov/rese...</td>\n      <td>{'title': ['LitCovid - NCBI - NLM - NIH']}</td>\n      <td>{'html': 'https://hypothes.is/a/9smAKIJLEeq6Hv...</td>\n      <td>{'display_name': 'Stefan Herzog'}</td>\n      <td>False</td>\n      <td>False</td>\n      <td>e593d53590429e8768fe9fc7bd8a95bcb23b361f</td>\n      <td>LitCovid is a curated literature hub for track...</td>\n      <td>False</td>\n      <td>https://www.ncbi.nlm.nih.gov/research/coronavi...</td>\n      <td>True</td>\n    </tr>\n    <tr>\n      <th>4</th>\n      <td>9oZlroJLEeqbQSs8lamtlQ</td>\n      <td>2020-04-19T14:42:15.751624+00:00</td>\n      <td>2020-04-19T14:42:15.751624+00:00</td>\n      <td>acct:stefanherzog@hypothes.is</td>\n      <td>http://www.the100.ci/2020/03/26/crisis-researc...</td>\n      <td></td>\n      <td>[]</td>\n      <td>Jk8bYJdN</td>\n      <td>{'read': ['group:__world__'], 'admin': ['acct:...</td>\n      <td>[{'source': 'http://www.the100.ci/2020/03/26/c...</td>\n      <td>{'title': ['Crisis research, fast and slow']}</td>\n      <td>{'html': 'https://hypothes.is/a/9oZlroJLEeqbQS...</td>\n      <td>{'display_name': 'Stefan Herzog'}</td>\n      <td>False</td>\n      <td>False</td>\n      <td>a30f8a303e30393880dfd0689a13f06402201842</td>\n      <td>Moar errors Not just sampling error, but error...</td>\n      <td>False</td>\n      <td>http://www.the100.ci/2020/03/26/crisis-researc...</td>\n      <td>True</td>\n    </tr>\n    <tr>\n      <th>...</th>\n      <td>...</td>\n      <td>...</td>\n      <td>...</td>\n      <td>...</td>\n      <td>...</td>\n      <td>...</td>\n      <td>...</td>\n      <td>...</td>\n      <td>...</td>\n      <td>...</td>\n      <td>...</td>\n      <td>...</td>\n      <td>...</td>\n      <td>...</td>\n      <td>...</td>\n      <td>...</td>\n      <td>...</td>\n      <td>...</td>\n      <td>...</td>\n      <td>...</td>\n    </tr>\n    <tr>\n      <th>44263</th>\n      <td>IqqGzNZdEeu7qW8TVqQlWA</td>\n      <td>2021-06-26T09:01:46.663954+00:00</td>\n      <td>2021-06-26T09:01:46.663954+00:00</td>\n      <td>acct:lucyparfitt16@hypothes.is</td>\n      <td>https://poseidon01.ssrn.com/delivery.php?ID=05...</td>\n      <td>2021-03-31</td>\n      <td>[has:date]</td>\n      <td>Jk8bYJdN</td>\n      <td>{'read': ['group:__world__'], 'admin': ['acct:...</td>\n      <td>[{'source': 'https://poseidon01.ssrn.com/deliv...</td>\n      <td>{'title': ['Microsoft Word - Parry et al.docx']}</td>\n      <td>{'html': 'https://hypothes.is/a/IqqGzNZdEeu7qW...</td>\n      <td>{'display_name': None}</td>\n      <td>False</td>\n      <td>False</td>\n      <td>0a70abf8eee47b640ce4f1cb47440460aafa919f</td>\n      <td>2021-03-31</td>\n      <td>False</td>\n      <td>https://poseidon01.ssrn.com/delivery.php?ID=05...</td>\n      <td>True</td>\n    </tr>\n    <tr>\n      <th>44264</th>\n      <td>GzcHitZdEeu3utsN1zIlXA</td>\n      <td>2021-06-26T09:01:34.146545+00:00</td>\n      <td>2021-06-26T09:01:34.146545+00:00</td>\n      <td>acct:lucyparfitt16@hypothes.is</td>\n      <td>https://poseidon01.ssrn.com/delivery.php?ID=05...</td>\n      <td>Parry, H. M., Tut, G., Faustini, S., Stephens,...</td>\n      <td>[is:preprint, lang:en, COVID-19, vaccine, immu...</td>\n      <td>Jk8bYJdN</td>\n      <td>{'read': ['group:__world__'], 'admin': ['acct:...</td>\n      <td>[{'source': 'https://poseidon01.ssrn.com/deliv...</td>\n      <td>{'title': ['Microsoft Word - Parry et al.docx']}</td>\n      <td>{'html': 'https://hypothes.is/a/GzcHitZdEeu3ut...</td>\n      <td>{'display_name': None}</td>\n      <td>False</td>\n      <td>False</td>\n      <td>0a70abf8eee47b640ce4f1cb47440460aafa919f</td>\n      <td>Parry, H. M., Tut, G., Faustini, S., Stephens,...</td>\n      <td>False</td>\n      <td>https://poseidon01.ssrn.com/delivery.php?ID=05...</td>\n      <td>True</td>\n    </tr>\n    <tr>\n      <th>44265</th>\n      <td>tkTclNZcEeu7dhcV5i6TGA</td>\n      <td>2021-06-26T08:58:44.804883+00:00</td>\n      <td>2021-06-26T08:58:44.804883+00:00</td>\n      <td>acct:lucyparfitt16@hypothes.is</td>\n      <td>https://poseidon01.ssrn.com/delivery.php?ID=05...</td>\n      <td></td>\n      <td>[ann:summary]</td>\n      <td>Jk8bYJdN</td>\n      <td>{'read': ['group:__world__'], 'admin': ['acct:...</td>\n      <td>[{'source': 'https://poseidon01.ssrn.com/deliv...</td>\n      <td>{'title': ['Microsoft Word - Parry et al.docx']}</td>\n      <td>{'html': 'https://hypothes.is/a/tkTclNZcEeu7dh...</td>\n      <td>{'display_name': None}</td>\n      <td>False</td>\n      <td>False</td>\n      <td>0a70abf8eee47b640ce4f1cb47440460aafa919f</td>\n      <td>BackgroundAge is the major risk factor for mor...</td>\n      <td>False</td>\n      <td>https://poseidon01.ssrn.com/delivery.php?ID=05...</td>\n      <td>True</td>\n    </tr>\n    <tr>\n      <th>44266</th>\n      <td>p5oL9tZcEeuXK79Bg_WtoA</td>\n      <td>2021-06-26T08:58:20.188404+00:00</td>\n      <td>2021-06-26T08:58:20.188404+00:00</td>\n      <td>acct:lucyparfitt16@hypothes.is</td>\n      <td>https://poseidon01.ssrn.com/delivery.php?ID=05...</td>\n      <td></td>\n      <td>[ann:title]</td>\n      <td>Jk8bYJdN</td>\n      <td>{'read': ['group:__world__'], 'admin': ['acct:...</td>\n      <td>[{'source': 'https://poseidon01.ssrn.com/deliv...</td>\n      <td>{'title': ['Microsoft Word - Parry et al.docx']}</td>\n      <td>{'html': 'https://hypothes.is/a/p5oL9tZcEeuXK7...</td>\n      <td>{'display_name': None}</td>\n      <td>False</td>\n      <td>False</td>\n      <td>0a70abf8eee47b640ce4f1cb47440460aafa919f</td>\n      <td>1BNT162b2 vaccination in people over 80 years ...</td>\n      <td>False</td>\n      <td>https://poseidon01.ssrn.com/delivery.php?ID=05...</td>\n      <td>True</td>\n    </tr>\n    <tr>\n      <th>44267</th>\n      <td>-eARsNZZEeu-amPoGgaXSg</td>\n      <td>2021-06-26T08:39:09.738999+00:00</td>\n      <td>2021-06-26T08:39:09.738999+00:00</td>\n      <td>acct:lucyparfitt16@hypothes.is</td>\n      <td>https://252f2edd-1c8b-49f5-9bb2-cb57bb47e4ba.f...</td>\n      <td>https://www.counterhate.com/playbook</td>\n      <td>[has:context]</td>\n      <td>Jk8bYJdN</td>\n      <td>{'read': ['group:__world__'], 'admin': ['acct:...</td>\n      <td>[{'source': 'https://252f2edd-1c8b-49f5-9bb2-c...</td>\n      <td>{'title': ['f4d9b9_fddbfb2a0c05461cb4bdce2892f...</td>\n      <td>{'html': 'https://hypothes.is/a/-eARsNZZEeu-am...</td>\n      <td>{'display_name': None}</td>\n      <td>False</td>\n      <td>False</td>\n      <td>9669f13195da25ceb2fe9f5604d552932ca58893</td>\n      <td>https://www.counterhate.com/playbook</td>\n      <td>False</td>\n      <td>https://252f2edd-1c8b-49f5-9bb2-cb57bb47e4ba.f...</td>\n      <td>True</td>\n    </tr>\n  </tbody>\n</table>\n<p>44268 rows × 20 columns</p>\n</div>"
     },
     "execution_count": 57,
     "metadata": {},
     "output_type": "execute_result"
    }
   ],
   "source": [
    "df"
   ],
   "metadata": {
    "collapsed": false
   }
  },
  {
   "cell_type": "code",
   "execution_count": 56,
   "outputs": [
    {
     "data": {
      "text/plain": "Empty DataFrame\nColumns: [id, created, updated, user, uri, text, tags, group, permissions, target, document, links, user_info, flagged, hidden, doc_id, text_, no_title, target__source, source_is_uri]\nIndex: []",
      "text/html": "<div>\n<style scoped>\n    .dataframe tbody tr th:only-of-type {\n        vertical-align: middle;\n    }\n\n    .dataframe tbody tr th {\n        vertical-align: top;\n    }\n\n    .dataframe thead th {\n        text-align: right;\n    }\n</style>\n<table border=\"1\" class=\"dataframe\">\n  <thead>\n    <tr style=\"text-align: right;\">\n      <th></th>\n      <th>id</th>\n      <th>created</th>\n      <th>updated</th>\n      <th>user</th>\n      <th>uri</th>\n      <th>text</th>\n      <th>tags</th>\n      <th>group</th>\n      <th>permissions</th>\n      <th>target</th>\n      <th>document</th>\n      <th>links</th>\n      <th>user_info</th>\n      <th>flagged</th>\n      <th>hidden</th>\n      <th>doc_id</th>\n      <th>text_</th>\n      <th>no_title</th>\n      <th>target__source</th>\n      <th>source_is_uri</th>\n    </tr>\n  </thead>\n  <tbody>\n  </tbody>\n</table>\n</div>"
     },
     "execution_count": 56,
     "metadata": {},
     "output_type": "execute_result"
    }
   ],
   "source": [
    "df.query('source_is_uri == False')"
   ],
   "metadata": {
    "collapsed": false
   }
  },
  {
   "cell_type": "code",
   "execution_count": 31,
   "outputs": [
    {
     "data": {
      "text/plain": "1    44268\nName: target, dtype: int64"
     },
     "execution_count": 31,
     "metadata": {},
     "output_type": "execute_result"
    }
   ],
   "source": [
    "df['target'].apply(len).value_counts()"
   ],
   "metadata": {
    "collapsed": false
   }
  },
  {
   "cell_type": "code",
   "execution_count": 32,
   "outputs": [
    {
     "data": {
      "text/plain": "                           id                           created  \\\n26335  UnuAindeEeunzl_3ANtJFA  2021-02-25T11:40:55.791222+00:00   \n26336  DR1kvnddEeuoOu_euSRYCw  2021-02-25T11:31:49.916627+00:00   \n26337  _fgEYndcEeunyxN31N88BQ  2021-02-25T11:31:24.504121+00:00   \n26338  87VMlHdcEeuEK9Nzi53S3Q  2021-02-25T11:31:07.352506+00:00   \n26339  yZoevHdcEeu0oI-sHngbrQ  2021-02-25T11:29:56.707726+00:00   \n26340  uPrVYHdcEeucr-ODQiYAkg  2021-02-25T11:29:28.807580+00:00   \n\n                                updated                              user  \\\n26335  2021-02-25T11:40:55.791222+00:00  acct:Poppy_Schaffner@hypothes.is   \n26336  2021-02-25T11:31:49.916627+00:00  acct:Poppy_Schaffner@hypothes.is   \n26337  2021-02-25T11:31:24.504121+00:00  acct:Poppy_Schaffner@hypothes.is   \n26338  2021-02-25T11:31:07.352506+00:00  acct:Poppy_Schaffner@hypothes.is   \n26339  2021-02-25T11:29:56.707726+00:00  acct:Poppy_Schaffner@hypothes.is   \n26340  2021-02-25T11:29:28.807580+00:00  acct:Poppy_Schaffner@hypothes.is   \n\n                               uri  \\\n26335  https://psyarxiv.com/zpf6b/   \n26336  https://psyarxiv.com/zpf6b/   \n26337  https://psyarxiv.com/zpf6b/   \n26338  https://psyarxiv.com/zpf6b/   \n26339  https://psyarxiv.com/zpf6b/   \n26340  https://psyarxiv.com/zpf6b/   \n\n                                                    text  \\\n26335  Krpan, Dario. ‘To Sit Quietly in a Room Alone:...   \n26336                                                      \n26337                                                      \n26338                                         2021-02-24   \n26339                                                      \n26340  https://twitter.com/PsyArXivBot/status/1364692...   \n\n                                                    tags     group  \\\n26335  [is:preprint, lang:en, COVID-19, stimulation, ...  Jk8bYJdN   \n26336                                      [ann:summary]  Jk8bYJdN   \n26337                                        [ann:title]  Jk8bYJdN   \n26338                                         [has:date]  Jk8bYJdN   \n26339                                          [ann:doi]  Jk8bYJdN   \n26340                                      [has:context]  Jk8bYJdN   \n\n                                             permissions  \\\n26335  {'read': ['group:__world__'], 'admin': ['acct:...   \n26336  {'read': ['group:__world__'], 'admin': ['acct:...   \n26337  {'read': ['group:__world__'], 'admin': ['acct:...   \n26338  {'read': ['group:__world__'], 'admin': ['acct:...   \n26339  {'read': ['group:__world__'], 'admin': ['acct:...   \n26340  {'read': ['group:__world__'], 'admin': ['acct:...   \n\n                                                  target  \\\n26335        [{'source': 'https://psyarxiv.com/zpf6b/'}]   \n26336  [{'source': 'https://psyarxiv.com/zpf6b/', 'se...   \n26337  [{'source': 'https://psyarxiv.com/zpf6b/', 'se...   \n26338        [{'source': 'https://psyarxiv.com/zpf6b/'}]   \n26339  [{'source': 'https://psyarxiv.com/zpf6b/', 'se...   \n26340        [{'source': 'https://psyarxiv.com/zpf6b/'}]   \n\n                                                document  \\\n26335  {'title': ['To Sit Quietly in a Room Alone: Th...   \n26336  {'title': ['To Sit Quietly in a Room Alone: Th...   \n26337  {'title': ['To Sit Quietly in a Room Alone: Th...   \n26338  {'title': ['To Sit Quietly in a Room Alone: Th...   \n26339  {'title': ['To Sit Quietly in a Room Alone: Th...   \n26340  {'title': ['To Sit Quietly in a Room Alone: Th...   \n\n                                                   links  \\\n26335  {'html': 'https://hypothes.is/a/UnuAindeEeunzl...   \n26336  {'html': 'https://hypothes.is/a/DR1kvnddEeuoOu...   \n26337  {'html': 'https://hypothes.is/a/_fgEYndcEeunyx...   \n26338  {'html': 'https://hypothes.is/a/87VMlHdcEeuEK9...   \n26339  {'html': 'https://hypothes.is/a/yZoevHdcEeu0oI...   \n26340  {'html': 'https://hypothes.is/a/uPrVYHdcEeucr-...   \n\n                    user_info  flagged  hidden  \\\n26335  {'display_name': None}    False   False   \n26336  {'display_name': None}    False   False   \n26337  {'display_name': None}    False   False   \n26338  {'display_name': None}    False   False   \n26339  {'display_name': None}    False   False   \n26340  {'display_name': None}    False   False   \n\n                                         doc_id  \\\n26335  0599244c5ba3029c15055ea6d260e1e1ec205d12   \n26336  0599244c5ba3029c15055ea6d260e1e1ec205d12   \n26337  0599244c5ba3029c15055ea6d260e1e1ec205d12   \n26338  0599244c5ba3029c15055ea6d260e1e1ec205d12   \n26339  0599244c5ba3029c15055ea6d260e1e1ec205d12   \n26340  0599244c5ba3029c15055ea6d260e1e1ec205d12   \n\n                                                   text_  no_title  \n26335  Krpan, Dario. ‘To Sit Quietly in a Room Alone:...     False  \n26336  External input is any kind of physical stimula...     False  \n26337  To Sit Quietly in a Room Alone: The Psychology...     False  \n26338                                         2021-02-24     False  \n26339                              10.31234/osf.io/zpf6b     False  \n26340  https://twitter.com/PsyArXivBot/status/1364692...     False  ",
      "text/html": "<div>\n<style scoped>\n    .dataframe tbody tr th:only-of-type {\n        vertical-align: middle;\n    }\n\n    .dataframe tbody tr th {\n        vertical-align: top;\n    }\n\n    .dataframe thead th {\n        text-align: right;\n    }\n</style>\n<table border=\"1\" class=\"dataframe\">\n  <thead>\n    <tr style=\"text-align: right;\">\n      <th></th>\n      <th>id</th>\n      <th>created</th>\n      <th>updated</th>\n      <th>user</th>\n      <th>uri</th>\n      <th>text</th>\n      <th>tags</th>\n      <th>group</th>\n      <th>permissions</th>\n      <th>target</th>\n      <th>document</th>\n      <th>links</th>\n      <th>user_info</th>\n      <th>flagged</th>\n      <th>hidden</th>\n      <th>doc_id</th>\n      <th>text_</th>\n      <th>no_title</th>\n    </tr>\n  </thead>\n  <tbody>\n    <tr>\n      <th>26335</th>\n      <td>UnuAindeEeunzl_3ANtJFA</td>\n      <td>2021-02-25T11:40:55.791222+00:00</td>\n      <td>2021-02-25T11:40:55.791222+00:00</td>\n      <td>acct:Poppy_Schaffner@hypothes.is</td>\n      <td>https://psyarxiv.com/zpf6b/</td>\n      <td>Krpan, Dario. ‘To Sit Quietly in a Room Alone:...</td>\n      <td>[is:preprint, lang:en, COVID-19, stimulation, ...</td>\n      <td>Jk8bYJdN</td>\n      <td>{'read': ['group:__world__'], 'admin': ['acct:...</td>\n      <td>[{'source': 'https://psyarxiv.com/zpf6b/'}]</td>\n      <td>{'title': ['To Sit Quietly in a Room Alone: Th...</td>\n      <td>{'html': 'https://hypothes.is/a/UnuAindeEeunzl...</td>\n      <td>{'display_name': None}</td>\n      <td>False</td>\n      <td>False</td>\n      <td>0599244c5ba3029c15055ea6d260e1e1ec205d12</td>\n      <td>Krpan, Dario. ‘To Sit Quietly in a Room Alone:...</td>\n      <td>False</td>\n    </tr>\n    <tr>\n      <th>26336</th>\n      <td>DR1kvnddEeuoOu_euSRYCw</td>\n      <td>2021-02-25T11:31:49.916627+00:00</td>\n      <td>2021-02-25T11:31:49.916627+00:00</td>\n      <td>acct:Poppy_Schaffner@hypothes.is</td>\n      <td>https://psyarxiv.com/zpf6b/</td>\n      <td></td>\n      <td>[ann:summary]</td>\n      <td>Jk8bYJdN</td>\n      <td>{'read': ['group:__world__'], 'admin': ['acct:...</td>\n      <td>[{'source': 'https://psyarxiv.com/zpf6b/', 'se...</td>\n      <td>{'title': ['To Sit Quietly in a Room Alone: Th...</td>\n      <td>{'html': 'https://hypothes.is/a/DR1kvnddEeuoOu...</td>\n      <td>{'display_name': None}</td>\n      <td>False</td>\n      <td>False</td>\n      <td>0599244c5ba3029c15055ea6d260e1e1ec205d12</td>\n      <td>External input is any kind of physical stimula...</td>\n      <td>False</td>\n    </tr>\n    <tr>\n      <th>26337</th>\n      <td>_fgEYndcEeunyxN31N88BQ</td>\n      <td>2021-02-25T11:31:24.504121+00:00</td>\n      <td>2021-02-25T11:31:24.504121+00:00</td>\n      <td>acct:Poppy_Schaffner@hypothes.is</td>\n      <td>https://psyarxiv.com/zpf6b/</td>\n      <td></td>\n      <td>[ann:title]</td>\n      <td>Jk8bYJdN</td>\n      <td>{'read': ['group:__world__'], 'admin': ['acct:...</td>\n      <td>[{'source': 'https://psyarxiv.com/zpf6b/', 'se...</td>\n      <td>{'title': ['To Sit Quietly in a Room Alone: Th...</td>\n      <td>{'html': 'https://hypothes.is/a/_fgEYndcEeunyx...</td>\n      <td>{'display_name': None}</td>\n      <td>False</td>\n      <td>False</td>\n      <td>0599244c5ba3029c15055ea6d260e1e1ec205d12</td>\n      <td>To Sit Quietly in a Room Alone: The Psychology...</td>\n      <td>False</td>\n    </tr>\n    <tr>\n      <th>26338</th>\n      <td>87VMlHdcEeuEK9Nzi53S3Q</td>\n      <td>2021-02-25T11:31:07.352506+00:00</td>\n      <td>2021-02-25T11:31:07.352506+00:00</td>\n      <td>acct:Poppy_Schaffner@hypothes.is</td>\n      <td>https://psyarxiv.com/zpf6b/</td>\n      <td>2021-02-24</td>\n      <td>[has:date]</td>\n      <td>Jk8bYJdN</td>\n      <td>{'read': ['group:__world__'], 'admin': ['acct:...</td>\n      <td>[{'source': 'https://psyarxiv.com/zpf6b/'}]</td>\n      <td>{'title': ['To Sit Quietly in a Room Alone: Th...</td>\n      <td>{'html': 'https://hypothes.is/a/87VMlHdcEeuEK9...</td>\n      <td>{'display_name': None}</td>\n      <td>False</td>\n      <td>False</td>\n      <td>0599244c5ba3029c15055ea6d260e1e1ec205d12</td>\n      <td>2021-02-24</td>\n      <td>False</td>\n    </tr>\n    <tr>\n      <th>26339</th>\n      <td>yZoevHdcEeu0oI-sHngbrQ</td>\n      <td>2021-02-25T11:29:56.707726+00:00</td>\n      <td>2021-02-25T11:29:56.707726+00:00</td>\n      <td>acct:Poppy_Schaffner@hypothes.is</td>\n      <td>https://psyarxiv.com/zpf6b/</td>\n      <td></td>\n      <td>[ann:doi]</td>\n      <td>Jk8bYJdN</td>\n      <td>{'read': ['group:__world__'], 'admin': ['acct:...</td>\n      <td>[{'source': 'https://psyarxiv.com/zpf6b/', 'se...</td>\n      <td>{'title': ['To Sit Quietly in a Room Alone: Th...</td>\n      <td>{'html': 'https://hypothes.is/a/yZoevHdcEeu0oI...</td>\n      <td>{'display_name': None}</td>\n      <td>False</td>\n      <td>False</td>\n      <td>0599244c5ba3029c15055ea6d260e1e1ec205d12</td>\n      <td>10.31234/osf.io/zpf6b</td>\n      <td>False</td>\n    </tr>\n    <tr>\n      <th>26340</th>\n      <td>uPrVYHdcEeucr-ODQiYAkg</td>\n      <td>2021-02-25T11:29:28.807580+00:00</td>\n      <td>2021-02-25T11:29:28.807580+00:00</td>\n      <td>acct:Poppy_Schaffner@hypothes.is</td>\n      <td>https://psyarxiv.com/zpf6b/</td>\n      <td>https://twitter.com/PsyArXivBot/status/1364692...</td>\n      <td>[has:context]</td>\n      <td>Jk8bYJdN</td>\n      <td>{'read': ['group:__world__'], 'admin': ['acct:...</td>\n      <td>[{'source': 'https://psyarxiv.com/zpf6b/'}]</td>\n      <td>{'title': ['To Sit Quietly in a Room Alone: Th...</td>\n      <td>{'html': 'https://hypothes.is/a/uPrVYHdcEeucr-...</td>\n      <td>{'display_name': None}</td>\n      <td>False</td>\n      <td>False</td>\n      <td>0599244c5ba3029c15055ea6d260e1e1ec205d12</td>\n      <td>https://twitter.com/PsyArXivBot/status/1364692...</td>\n      <td>False</td>\n    </tr>\n  </tbody>\n</table>\n</div>"
     },
     "execution_count": 32,
     "metadata": {},
     "output_type": "execute_result"
    }
   ],
   "source": [
    "mysample = df.query('doc_id == \"0599244c5ba3029c15055ea6d260e1e1ec205d12\"')\n",
    "mysample"
   ],
   "metadata": {
    "collapsed": false
   }
  },
  {
   "cell_type": "code",
   "execution_count": 33,
   "outputs": [],
   "source": [
    "df['no_title'] = df[\"document\"].apply(lambda x: 'title' not in x)\n",
    "_ = df.query('no_title == True')"
   ],
   "metadata": {
    "collapsed": false
   }
  },
  {
   "cell_type": "code",
   "execution_count": 34,
   "outputs": [
    {
     "data": {
      "text/plain": "                           id                           created  \\\n5636   5ejIXrnmEeqSOG9RUf5Zpw  2020-06-29T08:59:53.847150+00:00   \n9831   I5J7doVBEeqVknfVGirpWA  2020-04-23T09:02:20.363690+00:00   \n9832   IzBTaoVBEeqlqBdweJ0tCw  2020-04-23T09:02:19.742203+00:00   \n9834   IvCo5oVBEeqTNedlJE5Aqg  2020-04-23T09:02:19.341499+00:00   \n9835   IvSkqoVBEeqWVxeumCICZw  2020-04-23T09:02:19.331728+00:00   \n...                       ...                               ...   \n37221  0zGztntkEeugMatmeSrygA  2021-03-02T14:37:33.478289+00:00   \n37222  xXEDlHtkEeuwNasfVms3_A  2021-03-02T14:37:10.411194+00:00   \n37223  V0xabHtkEeuwPoNaGI9z8A  2021-03-02T14:34:05.621056+00:00   \n37224  P-QETHtkEeuQAG_JZZyEYA  2021-03-02T14:33:26.361393+00:00   \n37225  ON7c0HtkEeu8Q_O2Hf-EVw  2021-03-02T14:33:14.578531+00:00   \n\n                                updated                             user  \\\n5636   2020-06-29T08:59:53.847150+00:00          acct:edampf@hypothes.is   \n9831   2020-04-23T09:02:20.363690+00:00          acct:edampf@hypothes.is   \n9832   2020-04-23T09:02:19.742203+00:00          acct:edampf@hypothes.is   \n9834   2020-04-23T09:02:19.341499+00:00          acct:edampf@hypothes.is   \n9835   2020-04-23T09:02:19.331728+00:00          acct:edampf@hypothes.is   \n...                                 ...                              ...   \n37221  2021-03-02T14:37:33.478289+00:00  acct:zoe_ikeotuonye@hypothes.is   \n37222  2021-03-02T14:37:10.411194+00:00  acct:zoe_ikeotuonye@hypothes.is   \n37223  2021-03-02T14:34:05.621056+00:00  acct:zoe_ikeotuonye@hypothes.is   \n37224  2021-03-02T14:33:26.361393+00:00  acct:zoe_ikeotuonye@hypothes.is   \n37225  2021-03-02T14:33:14.578531+00:00  acct:zoe_ikeotuonye@hypothes.is   \n\n                                                     uri  \\\n5636   https://zoom.us/webinar/register/8915871539767...   \n9831     http://users.ox.ac.uk/~nuff0078/Covid/index.htm   \n9832     http://users.ox.ac.uk/~nuff0078/Covid/index.htm   \n9834     http://users.ox.ac.uk/~nuff0078/Covid/index.htm   \n9835     http://users.ox.ac.uk/~nuff0078/Covid/index.htm   \n...                                                  ...   \n37221                        https://psyarxiv.com/mh69r/   \n37222                        https://psyarxiv.com/mh69r/   \n37223                        https://psyarxiv.com/mh69r/   \n37224                        https://psyarxiv.com/mh69r/   \n37225                        https://psyarxiv.com/mh69r/   \n\n                                                    text  \\\n5636   This webinar is now available here: https://ww...   \n9831                                          2020-04-20   \n9832   Bird, S., Nielsen, B. (2020 April 20). *Now-ca...   \n9834                                                       \n9835   https://twitter.com/SciBeh/status/125104802511...   \n...                                                  ...   \n37221                                         2021-02-26   \n37222  Baal, S. van, Walasek, L., & Hohwy, J. (2021)....   \n37223                                                      \n37224                                                      \n37225                                                      \n\n                                                    tags     group  \\\n5636                                        [has:update]  Jk8bYJdN   \n9831                                          [has:date]  Jk8bYJdN   \n9832   [is:webpage, COVID-19, lang:en, UK, England, n...  Jk8bYJdN   \n9834                                         [ann:title]  Jk8bYJdN   \n9835                                       [has:context]  Jk8bYJdN   \n...                                                  ...       ...   \n37221                                         [has:date]  Jk8bYJdN   \n37222  [is:preprint, lang:en, behavioural science, pa...  Jk8bYJdN   \n37223                                      [ann:summary]  Jk8bYJdN   \n37224                                          [ann:doi]  Jk8bYJdN   \n37225                                        [ann:title]  Jk8bYJdN   \n\n                                             permissions  \\\n5636   {'read': ['group:__world__'], 'admin': ['acct:...   \n9831   {'read': ['group:__world__'], 'admin': ['acct:...   \n9832   {'read': ['group:__world__'], 'admin': ['acct:...   \n9834   {'read': ['group:__world__'], 'admin': ['acct:...   \n9835   {'read': ['group:__world__'], 'admin': ['acct:...   \n...                                                  ...   \n37221  {'read': ['group:__world__'], 'admin': ['acct:...   \n37222  {'read': ['group:__world__'], 'admin': ['acct:...   \n37223  {'read': ['group:__world__'], 'admin': ['acct:...   \n37224  {'read': ['group:__world__'], 'admin': ['acct:...   \n37225  {'read': ['group:__world__'], 'admin': ['acct:...   \n\n                                                  target document  \\\n5636   [{'source': 'https://zoom.us/webinar/register/...       {}   \n9831   [{'source': 'http://users.ox.ac.uk/~nuff0078/C...       {}   \n9832   [{'source': 'http://users.ox.ac.uk/~nuff0078/C...       {}   \n9834   [{'source': 'http://users.ox.ac.uk/~nuff0078/C...       {}   \n9835   [{'source': 'http://users.ox.ac.uk/~nuff0078/C...       {}   \n...                                                  ...      ...   \n37221        [{'source': 'https://psyarxiv.com/mh69r/'}]       {}   \n37222        [{'source': 'https://psyarxiv.com/mh69r/'}]       {}   \n37223  [{'source': 'https://psyarxiv.com/mh69r/', 'se...       {}   \n37224  [{'source': 'https://psyarxiv.com/mh69r/', 'se...       {}   \n37225  [{'source': 'https://psyarxiv.com/mh69r/', 'se...       {}   \n\n                                                   links  \\\n5636   {'html': 'https://hypothes.is/a/5ejIXrnmEeqSOG...   \n9831   {'html': 'https://hypothes.is/a/I5J7doVBEeqVkn...   \n9832   {'html': 'https://hypothes.is/a/IzBTaoVBEeqlqB...   \n9834   {'html': 'https://hypothes.is/a/IvCo5oVBEeqTNe...   \n9835   {'html': 'https://hypothes.is/a/IvSkqoVBEeqWVx...   \n...                                                  ...   \n37221  {'html': 'https://hypothes.is/a/0zGztntkEeugMa...   \n37222  {'html': 'https://hypothes.is/a/xXEDlHtkEeuwNa...   \n37223  {'html': 'https://hypothes.is/a/V0xabHtkEeuwPo...   \n37224  {'html': 'https://hypothes.is/a/P-QETHtkEeuQAG...   \n37225  {'html': 'https://hypothes.is/a/ON7c0HtkEeu8Q_...   \n\n                    user_info  flagged  hidden  \\\n5636   {'display_name': None}    False   False   \n9831   {'display_name': None}    False   False   \n9832   {'display_name': None}    False   False   \n9834   {'display_name': None}    False   False   \n9835   {'display_name': None}    False   False   \n...                       ...      ...     ...   \n37221  {'display_name': None}    False   False   \n37222  {'display_name': None}    False   False   \n37223  {'display_name': None}    False   False   \n37224  {'display_name': None}    False   False   \n37225  {'display_name': None}    False   False   \n\n                                         doc_id  \\\n5636   b2471f489186b99895f4ed9093b54a725dec284e   \n9831   00197a6f438d282966bc3dacf84f74826bc29228   \n9832   00197a6f438d282966bc3dacf84f74826bc29228   \n9834   00197a6f438d282966bc3dacf84f74826bc29228   \n9835   00197a6f438d282966bc3dacf84f74826bc29228   \n...                                         ...   \n37221  352c955fdb2047313cf913aa8ad20e838675bc2a   \n37222  352c955fdb2047313cf913aa8ad20e838675bc2a   \n37223  352c955fdb2047313cf913aa8ad20e838675bc2a   \n37224  352c955fdb2047313cf913aa8ad20e838675bc2a   \n37225  352c955fdb2047313cf913aa8ad20e838675bc2a   \n\n                                                   text_  no_title  \n5636   This webinar is now available here: https://ww...      True  \n9831                                          2020-04-20      True  \n9832   Bird, S., Nielsen, B. (2020 April 20). *Now-ca...      True  \n9834   NOW-CASTING OF Covid-19 DEATHS IN ENGLISH HOSP...      True  \n9835   https://twitter.com/SciBeh/status/125104802511...      True  \n...                                                  ...       ...  \n37221                                         2021-02-26      True  \n37222  Baal, S. van, Walasek, L., & Hohwy, J. (2021)....      True  \n37223  The effectiveness of a nation’s COVID-19 respo...      True  \n37224                              10.31234/osf.io/mh69r      True  \n37225  Staying home so you can keep going out: A mult...      True  \n\n[112 rows x 18 columns]",
      "text/html": "<div>\n<style scoped>\n    .dataframe tbody tr th:only-of-type {\n        vertical-align: middle;\n    }\n\n    .dataframe tbody tr th {\n        vertical-align: top;\n    }\n\n    .dataframe thead th {\n        text-align: right;\n    }\n</style>\n<table border=\"1\" class=\"dataframe\">\n  <thead>\n    <tr style=\"text-align: right;\">\n      <th></th>\n      <th>id</th>\n      <th>created</th>\n      <th>updated</th>\n      <th>user</th>\n      <th>uri</th>\n      <th>text</th>\n      <th>tags</th>\n      <th>group</th>\n      <th>permissions</th>\n      <th>target</th>\n      <th>document</th>\n      <th>links</th>\n      <th>user_info</th>\n      <th>flagged</th>\n      <th>hidden</th>\n      <th>doc_id</th>\n      <th>text_</th>\n      <th>no_title</th>\n    </tr>\n  </thead>\n  <tbody>\n    <tr>\n      <th>5636</th>\n      <td>5ejIXrnmEeqSOG9RUf5Zpw</td>\n      <td>2020-06-29T08:59:53.847150+00:00</td>\n      <td>2020-06-29T08:59:53.847150+00:00</td>\n      <td>acct:edampf@hypothes.is</td>\n      <td>https://zoom.us/webinar/register/8915871539767...</td>\n      <td>This webinar is now available here: https://ww...</td>\n      <td>[has:update]</td>\n      <td>Jk8bYJdN</td>\n      <td>{'read': ['group:__world__'], 'admin': ['acct:...</td>\n      <td>[{'source': 'https://zoom.us/webinar/register/...</td>\n      <td>{}</td>\n      <td>{'html': 'https://hypothes.is/a/5ejIXrnmEeqSOG...</td>\n      <td>{'display_name': None}</td>\n      <td>False</td>\n      <td>False</td>\n      <td>b2471f489186b99895f4ed9093b54a725dec284e</td>\n      <td>This webinar is now available here: https://ww...</td>\n      <td>True</td>\n    </tr>\n    <tr>\n      <th>9831</th>\n      <td>I5J7doVBEeqVknfVGirpWA</td>\n      <td>2020-04-23T09:02:20.363690+00:00</td>\n      <td>2020-04-23T09:02:20.363690+00:00</td>\n      <td>acct:edampf@hypothes.is</td>\n      <td>http://users.ox.ac.uk/~nuff0078/Covid/index.htm</td>\n      <td>2020-04-20</td>\n      <td>[has:date]</td>\n      <td>Jk8bYJdN</td>\n      <td>{'read': ['group:__world__'], 'admin': ['acct:...</td>\n      <td>[{'source': 'http://users.ox.ac.uk/~nuff0078/C...</td>\n      <td>{}</td>\n      <td>{'html': 'https://hypothes.is/a/I5J7doVBEeqVkn...</td>\n      <td>{'display_name': None}</td>\n      <td>False</td>\n      <td>False</td>\n      <td>00197a6f438d282966bc3dacf84f74826bc29228</td>\n      <td>2020-04-20</td>\n      <td>True</td>\n    </tr>\n    <tr>\n      <th>9832</th>\n      <td>IzBTaoVBEeqlqBdweJ0tCw</td>\n      <td>2020-04-23T09:02:19.742203+00:00</td>\n      <td>2020-04-23T09:02:19.742203+00:00</td>\n      <td>acct:edampf@hypothes.is</td>\n      <td>http://users.ox.ac.uk/~nuff0078/Covid/index.htm</td>\n      <td>Bird, S., Nielsen, B. (2020 April 20). *Now-ca...</td>\n      <td>[is:webpage, COVID-19, lang:en, UK, England, n...</td>\n      <td>Jk8bYJdN</td>\n      <td>{'read': ['group:__world__'], 'admin': ['acct:...</td>\n      <td>[{'source': 'http://users.ox.ac.uk/~nuff0078/C...</td>\n      <td>{}</td>\n      <td>{'html': 'https://hypothes.is/a/IzBTaoVBEeqlqB...</td>\n      <td>{'display_name': None}</td>\n      <td>False</td>\n      <td>False</td>\n      <td>00197a6f438d282966bc3dacf84f74826bc29228</td>\n      <td>Bird, S., Nielsen, B. (2020 April 20). *Now-ca...</td>\n      <td>True</td>\n    </tr>\n    <tr>\n      <th>9834</th>\n      <td>IvCo5oVBEeqTNedlJE5Aqg</td>\n      <td>2020-04-23T09:02:19.341499+00:00</td>\n      <td>2020-04-23T09:02:19.341499+00:00</td>\n      <td>acct:edampf@hypothes.is</td>\n      <td>http://users.ox.ac.uk/~nuff0078/Covid/index.htm</td>\n      <td></td>\n      <td>[ann:title]</td>\n      <td>Jk8bYJdN</td>\n      <td>{'read': ['group:__world__'], 'admin': ['acct:...</td>\n      <td>[{'source': 'http://users.ox.ac.uk/~nuff0078/C...</td>\n      <td>{}</td>\n      <td>{'html': 'https://hypothes.is/a/IvCo5oVBEeqTNe...</td>\n      <td>{'display_name': None}</td>\n      <td>False</td>\n      <td>False</td>\n      <td>00197a6f438d282966bc3dacf84f74826bc29228</td>\n      <td>NOW-CASTING OF Covid-19 DEATHS IN ENGLISH HOSP...</td>\n      <td>True</td>\n    </tr>\n    <tr>\n      <th>9835</th>\n      <td>IvSkqoVBEeqWVxeumCICZw</td>\n      <td>2020-04-23T09:02:19.331728+00:00</td>\n      <td>2020-04-23T09:02:19.331728+00:00</td>\n      <td>acct:edampf@hypothes.is</td>\n      <td>http://users.ox.ac.uk/~nuff0078/Covid/index.htm</td>\n      <td>https://twitter.com/SciBeh/status/125104802511...</td>\n      <td>[has:context]</td>\n      <td>Jk8bYJdN</td>\n      <td>{'read': ['group:__world__'], 'admin': ['acct:...</td>\n      <td>[{'source': 'http://users.ox.ac.uk/~nuff0078/C...</td>\n      <td>{}</td>\n      <td>{'html': 'https://hypothes.is/a/IvSkqoVBEeqWVx...</td>\n      <td>{'display_name': None}</td>\n      <td>False</td>\n      <td>False</td>\n      <td>00197a6f438d282966bc3dacf84f74826bc29228</td>\n      <td>https://twitter.com/SciBeh/status/125104802511...</td>\n      <td>True</td>\n    </tr>\n    <tr>\n      <th>...</th>\n      <td>...</td>\n      <td>...</td>\n      <td>...</td>\n      <td>...</td>\n      <td>...</td>\n      <td>...</td>\n      <td>...</td>\n      <td>...</td>\n      <td>...</td>\n      <td>...</td>\n      <td>...</td>\n      <td>...</td>\n      <td>...</td>\n      <td>...</td>\n      <td>...</td>\n      <td>...</td>\n      <td>...</td>\n      <td>...</td>\n    </tr>\n    <tr>\n      <th>37221</th>\n      <td>0zGztntkEeugMatmeSrygA</td>\n      <td>2021-03-02T14:37:33.478289+00:00</td>\n      <td>2021-03-02T14:37:33.478289+00:00</td>\n      <td>acct:zoe_ikeotuonye@hypothes.is</td>\n      <td>https://psyarxiv.com/mh69r/</td>\n      <td>2021-02-26</td>\n      <td>[has:date]</td>\n      <td>Jk8bYJdN</td>\n      <td>{'read': ['group:__world__'], 'admin': ['acct:...</td>\n      <td>[{'source': 'https://psyarxiv.com/mh69r/'}]</td>\n      <td>{}</td>\n      <td>{'html': 'https://hypothes.is/a/0zGztntkEeugMa...</td>\n      <td>{'display_name': None}</td>\n      <td>False</td>\n      <td>False</td>\n      <td>352c955fdb2047313cf913aa8ad20e838675bc2a</td>\n      <td>2021-02-26</td>\n      <td>True</td>\n    </tr>\n    <tr>\n      <th>37222</th>\n      <td>xXEDlHtkEeuwNasfVms3_A</td>\n      <td>2021-03-02T14:37:10.411194+00:00</td>\n      <td>2021-03-02T14:37:10.411194+00:00</td>\n      <td>acct:zoe_ikeotuonye@hypothes.is</td>\n      <td>https://psyarxiv.com/mh69r/</td>\n      <td>Baal, S. van, Walasek, L., &amp; Hohwy, J. (2021)....</td>\n      <td>[is:preprint, lang:en, behavioural science, pa...</td>\n      <td>Jk8bYJdN</td>\n      <td>{'read': ['group:__world__'], 'admin': ['acct:...</td>\n      <td>[{'source': 'https://psyarxiv.com/mh69r/'}]</td>\n      <td>{}</td>\n      <td>{'html': 'https://hypothes.is/a/xXEDlHtkEeuwNa...</td>\n      <td>{'display_name': None}</td>\n      <td>False</td>\n      <td>False</td>\n      <td>352c955fdb2047313cf913aa8ad20e838675bc2a</td>\n      <td>Baal, S. van, Walasek, L., &amp; Hohwy, J. (2021)....</td>\n      <td>True</td>\n    </tr>\n    <tr>\n      <th>37223</th>\n      <td>V0xabHtkEeuwPoNaGI9z8A</td>\n      <td>2021-03-02T14:34:05.621056+00:00</td>\n      <td>2021-03-02T14:34:05.621056+00:00</td>\n      <td>acct:zoe_ikeotuonye@hypothes.is</td>\n      <td>https://psyarxiv.com/mh69r/</td>\n      <td></td>\n      <td>[ann:summary]</td>\n      <td>Jk8bYJdN</td>\n      <td>{'read': ['group:__world__'], 'admin': ['acct:...</td>\n      <td>[{'source': 'https://psyarxiv.com/mh69r/', 'se...</td>\n      <td>{}</td>\n      <td>{'html': 'https://hypothes.is/a/V0xabHtkEeuwPo...</td>\n      <td>{'display_name': None}</td>\n      <td>False</td>\n      <td>False</td>\n      <td>352c955fdb2047313cf913aa8ad20e838675bc2a</td>\n      <td>The effectiveness of a nation’s COVID-19 respo...</td>\n      <td>True</td>\n    </tr>\n    <tr>\n      <th>37224</th>\n      <td>P-QETHtkEeuQAG_JZZyEYA</td>\n      <td>2021-03-02T14:33:26.361393+00:00</td>\n      <td>2021-03-02T14:33:26.361393+00:00</td>\n      <td>acct:zoe_ikeotuonye@hypothes.is</td>\n      <td>https://psyarxiv.com/mh69r/</td>\n      <td></td>\n      <td>[ann:doi]</td>\n      <td>Jk8bYJdN</td>\n      <td>{'read': ['group:__world__'], 'admin': ['acct:...</td>\n      <td>[{'source': 'https://psyarxiv.com/mh69r/', 'se...</td>\n      <td>{}</td>\n      <td>{'html': 'https://hypothes.is/a/P-QETHtkEeuQAG...</td>\n      <td>{'display_name': None}</td>\n      <td>False</td>\n      <td>False</td>\n      <td>352c955fdb2047313cf913aa8ad20e838675bc2a</td>\n      <td>10.31234/osf.io/mh69r</td>\n      <td>True</td>\n    </tr>\n    <tr>\n      <th>37225</th>\n      <td>ON7c0HtkEeu8Q_O2Hf-EVw</td>\n      <td>2021-03-02T14:33:14.578531+00:00</td>\n      <td>2021-03-02T14:33:14.578531+00:00</td>\n      <td>acct:zoe_ikeotuonye@hypothes.is</td>\n      <td>https://psyarxiv.com/mh69r/</td>\n      <td></td>\n      <td>[ann:title]</td>\n      <td>Jk8bYJdN</td>\n      <td>{'read': ['group:__world__'], 'admin': ['acct:...</td>\n      <td>[{'source': 'https://psyarxiv.com/mh69r/', 'se...</td>\n      <td>{}</td>\n      <td>{'html': 'https://hypothes.is/a/ON7c0HtkEeu8Q_...</td>\n      <td>{'display_name': None}</td>\n      <td>False</td>\n      <td>False</td>\n      <td>352c955fdb2047313cf913aa8ad20e838675bc2a</td>\n      <td>Staying home so you can keep going out: A mult...</td>\n      <td>True</td>\n    </tr>\n  </tbody>\n</table>\n<p>112 rows × 18 columns</p>\n</div>"
     },
     "execution_count": 34,
     "metadata": {},
     "output_type": "execute_result"
    }
   ],
   "source": [
    "_"
   ],
   "metadata": {
    "collapsed": false
   }
  },
  {
   "cell_type": "code",
   "execution_count": 34,
   "outputs": [],
   "source": [],
   "metadata": {
    "collapsed": false
   }
  },
  {
   "cell_type": "code",
   "execution_count": 51,
   "outputs": [
    {
     "data": {
      "text/plain": "                           id                           created  \\\n26335  UnuAindeEeunzl_3ANtJFA  2021-02-25T11:40:55.791222+00:00   \n26336  DR1kvnddEeuoOu_euSRYCw  2021-02-25T11:31:49.916627+00:00   \n26337  _fgEYndcEeunyxN31N88BQ  2021-02-25T11:31:24.504121+00:00   \n26338  87VMlHdcEeuEK9Nzi53S3Q  2021-02-25T11:31:07.352506+00:00   \n26339  yZoevHdcEeu0oI-sHngbrQ  2021-02-25T11:29:56.707726+00:00   \n26340  uPrVYHdcEeucr-ODQiYAkg  2021-02-25T11:29:28.807580+00:00   \n\n                                updated                              user  \\\n26335  2021-02-25T11:40:55.791222+00:00  acct:Poppy_Schaffner@hypothes.is   \n26336  2021-02-25T11:31:49.916627+00:00  acct:Poppy_Schaffner@hypothes.is   \n26337  2021-02-25T11:31:24.504121+00:00  acct:Poppy_Schaffner@hypothes.is   \n26338  2021-02-25T11:31:07.352506+00:00  acct:Poppy_Schaffner@hypothes.is   \n26339  2021-02-25T11:29:56.707726+00:00  acct:Poppy_Schaffner@hypothes.is   \n26340  2021-02-25T11:29:28.807580+00:00  acct:Poppy_Schaffner@hypothes.is   \n\n                               uri  \\\n26335  https://psyarxiv.com/zpf6b/   \n26336  https://psyarxiv.com/zpf6b/   \n26337  https://psyarxiv.com/zpf6b/   \n26338  https://psyarxiv.com/zpf6b/   \n26339  https://psyarxiv.com/zpf6b/   \n26340  https://psyarxiv.com/zpf6b/   \n\n                                                    text  \\\n26335  Krpan, Dario. ‘To Sit Quietly in a Room Alone:...   \n26336                                                      \n26337                                                      \n26338                                         2021-02-24   \n26339                                                      \n26340  https://twitter.com/PsyArXivBot/status/1364692...   \n\n                                                    tags     group  \\\n26335  [is:preprint, lang:en, COVID-19, stimulation, ...  Jk8bYJdN   \n26336                                      [ann:summary]  Jk8bYJdN   \n26337                                        [ann:title]  Jk8bYJdN   \n26338                                         [has:date]  Jk8bYJdN   \n26339                                          [ann:doi]  Jk8bYJdN   \n26340                                      [has:context]  Jk8bYJdN   \n\n                                             permissions  \\\n26335  {'read': ['group:__world__'], 'admin': ['acct:...   \n26336  {'read': ['group:__world__'], 'admin': ['acct:...   \n26337  {'read': ['group:__world__'], 'admin': ['acct:...   \n26338  {'read': ['group:__world__'], 'admin': ['acct:...   \n26339  {'read': ['group:__world__'], 'admin': ['acct:...   \n26340  {'read': ['group:__world__'], 'admin': ['acct:...   \n\n                                                  target  \\\n26335        [{'source': 'https://psyarxiv.com/zpf6b/'}]   \n26336  [{'source': 'https://psyarxiv.com/zpf6b/', 'se...   \n26337  [{'source': 'https://psyarxiv.com/zpf6b/', 'se...   \n26338        [{'source': 'https://psyarxiv.com/zpf6b/'}]   \n26339  [{'source': 'https://psyarxiv.com/zpf6b/', 'se...   \n26340        [{'source': 'https://psyarxiv.com/zpf6b/'}]   \n\n                                                document  \\\n26335  {'title': ['To Sit Quietly in a Room Alone: Th...   \n26336  {'title': ['To Sit Quietly in a Room Alone: Th...   \n26337  {'title': ['To Sit Quietly in a Room Alone: Th...   \n26338  {'title': ['To Sit Quietly in a Room Alone: Th...   \n26339  {'title': ['To Sit Quietly in a Room Alone: Th...   \n26340  {'title': ['To Sit Quietly in a Room Alone: Th...   \n\n                                                   links  \\\n26335  {'html': 'https://hypothes.is/a/UnuAindeEeunzl...   \n26336  {'html': 'https://hypothes.is/a/DR1kvnddEeuoOu...   \n26337  {'html': 'https://hypothes.is/a/_fgEYndcEeunyx...   \n26338  {'html': 'https://hypothes.is/a/87VMlHdcEeuEK9...   \n26339  {'html': 'https://hypothes.is/a/yZoevHdcEeu0oI...   \n26340  {'html': 'https://hypothes.is/a/uPrVYHdcEeucr-...   \n\n                    user_info  flagged  hidden  \\\n26335  {'display_name': None}    False   False   \n26336  {'display_name': None}    False   False   \n26337  {'display_name': None}    False   False   \n26338  {'display_name': None}    False   False   \n26339  {'display_name': None}    False   False   \n26340  {'display_name': None}    False   False   \n\n                                         doc_id  \\\n26335  0599244c5ba3029c15055ea6d260e1e1ec205d12   \n26336  0599244c5ba3029c15055ea6d260e1e1ec205d12   \n26337  0599244c5ba3029c15055ea6d260e1e1ec205d12   \n26338  0599244c5ba3029c15055ea6d260e1e1ec205d12   \n26339  0599244c5ba3029c15055ea6d260e1e1ec205d12   \n26340  0599244c5ba3029c15055ea6d260e1e1ec205d12   \n\n                                                   text_  no_title  \n26335  Krpan, Dario. ‘To Sit Quietly in a Room Alone:...     False  \n26336  External input is any kind of physical stimula...     False  \n26337  To Sit Quietly in a Room Alone: The Psychology...     False  \n26338                                         2021-02-24     False  \n26339                              10.31234/osf.io/zpf6b     False  \n26340  https://twitter.com/PsyArXivBot/status/1364692...     False  ",
      "text/html": "<div>\n<style scoped>\n    .dataframe tbody tr th:only-of-type {\n        vertical-align: middle;\n    }\n\n    .dataframe tbody tr th {\n        vertical-align: top;\n    }\n\n    .dataframe thead th {\n        text-align: right;\n    }\n</style>\n<table border=\"1\" class=\"dataframe\">\n  <thead>\n    <tr style=\"text-align: right;\">\n      <th></th>\n      <th>id</th>\n      <th>created</th>\n      <th>updated</th>\n      <th>user</th>\n      <th>uri</th>\n      <th>text</th>\n      <th>tags</th>\n      <th>group</th>\n      <th>permissions</th>\n      <th>target</th>\n      <th>document</th>\n      <th>links</th>\n      <th>user_info</th>\n      <th>flagged</th>\n      <th>hidden</th>\n      <th>doc_id</th>\n      <th>text_</th>\n      <th>no_title</th>\n    </tr>\n  </thead>\n  <tbody>\n    <tr>\n      <th>26335</th>\n      <td>UnuAindeEeunzl_3ANtJFA</td>\n      <td>2021-02-25T11:40:55.791222+00:00</td>\n      <td>2021-02-25T11:40:55.791222+00:00</td>\n      <td>acct:Poppy_Schaffner@hypothes.is</td>\n      <td>https://psyarxiv.com/zpf6b/</td>\n      <td>Krpan, Dario. ‘To Sit Quietly in a Room Alone:...</td>\n      <td>[is:preprint, lang:en, COVID-19, stimulation, ...</td>\n      <td>Jk8bYJdN</td>\n      <td>{'read': ['group:__world__'], 'admin': ['acct:...</td>\n      <td>[{'source': 'https://psyarxiv.com/zpf6b/'}]</td>\n      <td>{'title': ['To Sit Quietly in a Room Alone: Th...</td>\n      <td>{'html': 'https://hypothes.is/a/UnuAindeEeunzl...</td>\n      <td>{'display_name': None}</td>\n      <td>False</td>\n      <td>False</td>\n      <td>0599244c5ba3029c15055ea6d260e1e1ec205d12</td>\n      <td>Krpan, Dario. ‘To Sit Quietly in a Room Alone:...</td>\n      <td>False</td>\n    </tr>\n    <tr>\n      <th>26336</th>\n      <td>DR1kvnddEeuoOu_euSRYCw</td>\n      <td>2021-02-25T11:31:49.916627+00:00</td>\n      <td>2021-02-25T11:31:49.916627+00:00</td>\n      <td>acct:Poppy_Schaffner@hypothes.is</td>\n      <td>https://psyarxiv.com/zpf6b/</td>\n      <td></td>\n      <td>[ann:summary]</td>\n      <td>Jk8bYJdN</td>\n      <td>{'read': ['group:__world__'], 'admin': ['acct:...</td>\n      <td>[{'source': 'https://psyarxiv.com/zpf6b/', 'se...</td>\n      <td>{'title': ['To Sit Quietly in a Room Alone: Th...</td>\n      <td>{'html': 'https://hypothes.is/a/DR1kvnddEeuoOu...</td>\n      <td>{'display_name': None}</td>\n      <td>False</td>\n      <td>False</td>\n      <td>0599244c5ba3029c15055ea6d260e1e1ec205d12</td>\n      <td>External input is any kind of physical stimula...</td>\n      <td>False</td>\n    </tr>\n    <tr>\n      <th>26337</th>\n      <td>_fgEYndcEeunyxN31N88BQ</td>\n      <td>2021-02-25T11:31:24.504121+00:00</td>\n      <td>2021-02-25T11:31:24.504121+00:00</td>\n      <td>acct:Poppy_Schaffner@hypothes.is</td>\n      <td>https://psyarxiv.com/zpf6b/</td>\n      <td></td>\n      <td>[ann:title]</td>\n      <td>Jk8bYJdN</td>\n      <td>{'read': ['group:__world__'], 'admin': ['acct:...</td>\n      <td>[{'source': 'https://psyarxiv.com/zpf6b/', 'se...</td>\n      <td>{'title': ['To Sit Quietly in a Room Alone: Th...</td>\n      <td>{'html': 'https://hypothes.is/a/_fgEYndcEeunyx...</td>\n      <td>{'display_name': None}</td>\n      <td>False</td>\n      <td>False</td>\n      <td>0599244c5ba3029c15055ea6d260e1e1ec205d12</td>\n      <td>To Sit Quietly in a Room Alone: The Psychology...</td>\n      <td>False</td>\n    </tr>\n    <tr>\n      <th>26338</th>\n      <td>87VMlHdcEeuEK9Nzi53S3Q</td>\n      <td>2021-02-25T11:31:07.352506+00:00</td>\n      <td>2021-02-25T11:31:07.352506+00:00</td>\n      <td>acct:Poppy_Schaffner@hypothes.is</td>\n      <td>https://psyarxiv.com/zpf6b/</td>\n      <td>2021-02-24</td>\n      <td>[has:date]</td>\n      <td>Jk8bYJdN</td>\n      <td>{'read': ['group:__world__'], 'admin': ['acct:...</td>\n      <td>[{'source': 'https://psyarxiv.com/zpf6b/'}]</td>\n      <td>{'title': ['To Sit Quietly in a Room Alone: Th...</td>\n      <td>{'html': 'https://hypothes.is/a/87VMlHdcEeuEK9...</td>\n      <td>{'display_name': None}</td>\n      <td>False</td>\n      <td>False</td>\n      <td>0599244c5ba3029c15055ea6d260e1e1ec205d12</td>\n      <td>2021-02-24</td>\n      <td>False</td>\n    </tr>\n    <tr>\n      <th>26339</th>\n      <td>yZoevHdcEeu0oI-sHngbrQ</td>\n      <td>2021-02-25T11:29:56.707726+00:00</td>\n      <td>2021-02-25T11:29:56.707726+00:00</td>\n      <td>acct:Poppy_Schaffner@hypothes.is</td>\n      <td>https://psyarxiv.com/zpf6b/</td>\n      <td></td>\n      <td>[ann:doi]</td>\n      <td>Jk8bYJdN</td>\n      <td>{'read': ['group:__world__'], 'admin': ['acct:...</td>\n      <td>[{'source': 'https://psyarxiv.com/zpf6b/', 'se...</td>\n      <td>{'title': ['To Sit Quietly in a Room Alone: Th...</td>\n      <td>{'html': 'https://hypothes.is/a/yZoevHdcEeu0oI...</td>\n      <td>{'display_name': None}</td>\n      <td>False</td>\n      <td>False</td>\n      <td>0599244c5ba3029c15055ea6d260e1e1ec205d12</td>\n      <td>10.31234/osf.io/zpf6b</td>\n      <td>False</td>\n    </tr>\n    <tr>\n      <th>26340</th>\n      <td>uPrVYHdcEeucr-ODQiYAkg</td>\n      <td>2021-02-25T11:29:28.807580+00:00</td>\n      <td>2021-02-25T11:29:28.807580+00:00</td>\n      <td>acct:Poppy_Schaffner@hypothes.is</td>\n      <td>https://psyarxiv.com/zpf6b/</td>\n      <td>https://twitter.com/PsyArXivBot/status/1364692...</td>\n      <td>[has:context]</td>\n      <td>Jk8bYJdN</td>\n      <td>{'read': ['group:__world__'], 'admin': ['acct:...</td>\n      <td>[{'source': 'https://psyarxiv.com/zpf6b/'}]</td>\n      <td>{'title': ['To Sit Quietly in a Room Alone: Th...</td>\n      <td>{'html': 'https://hypothes.is/a/uPrVYHdcEeucr-...</td>\n      <td>{'display_name': None}</td>\n      <td>False</td>\n      <td>False</td>\n      <td>0599244c5ba3029c15055ea6d260e1e1ec205d12</td>\n      <td>https://twitter.com/PsyArXivBot/status/1364692...</td>\n      <td>False</td>\n    </tr>\n  </tbody>\n</table>\n</div>"
     },
     "execution_count": 51,
     "metadata": {},
     "output_type": "execute_result"
    }
   ],
   "source": [
    "mysample"
   ],
   "metadata": {
    "collapsed": false
   }
  },
  {
   "cell_type": "code",
   "execution_count": 34,
   "outputs": [],
   "source": [],
   "metadata": {
    "collapsed": false
   }
  },
  {
   "cell_type": "code",
   "execution_count": 74,
   "outputs": [
    {
     "data": {
      "text/plain": "{'_id': '0599244c5ba3029c15055ea6d260e1e1ec205d12',\n 'document_uri': 'https://psyarxiv.com/zpf6b/',\n 'document': 'To Sit Quietly in a Room Alone: The Psychology of Social, Material, and Sensation Seeking Input',\n 'tags': ['is:preprint',\n  'lang:en',\n  'COVID-19',\n  'stimulation',\n  'self-sufficiency',\n  'materialism',\n  'social',\n  'input',\n  'contexts',\n  'deprivation',\n  'external input',\n  'senses',\n  'sensation seeking',\n  'social motives',\n  'consequences',\n  'engagement',\n  'psychology',\n  'social input',\n  'social deprivation',\n  'ann:summary',\n  'ann:title',\n  'has:date',\n  'ann:doi',\n  'has:context'],\n 'annotations': [{'text': 'Krpan, Dario. ‘To Sit Quietly in a Room Alone: The Psychology of Social, Material, and Sensation Seeking Input’. PsyArXiv, 24 February 2021. https://doi.org/10.31234/osf.io/zpf6b.\\n',\n   'tags': ['is:preprint',\n    'lang:en',\n    'COVID-19',\n    'stimulation',\n    'self-sufficiency',\n    'materialism',\n    'social',\n    'input',\n    'contexts',\n    'deprivation',\n    'external input',\n    'senses',\n    'sensation seeking',\n    'social motives',\n    'consequences',\n    'engagement',\n    'psychology',\n    'social input',\n    'social deprivation']},\n  {'text': 'External input is any kind of physical stimulation created by an individual’s surroundings that can be detected by the senses.  The present research established a novel conceptualization of this construct by investigating it from the perspective of three research areas that tap into its different aspects but have so far been disconnected—materialism, social motives, and sensation seeking.  Studies 1-5 focused on individual differences regarding external input (i.e., the needs for material, social, and sensation seeking input).  It was established that the three needs are positively related and constitute different dimensions of the overarching construct of external input, that the needs for social and sensation seeking input have negative consequences for how people experience long-term input deprivation (i.e., COVID-19 restrictions), and that the need for material input has negative consequences for people’s experiences of short-term input deprivation (i.e., sitting in a chair without doing anything else but thinking).  Finally, Study 6 focused on external input as a situational characteristic and showed that the degree of sensation seeking input constituting various situations is a more important predictor, relative to social and material input, of how enjoyable and meaningful people perceive the situations and of their willingness to engage in them.  Overall, the present research established a novel construct that has fundamental implications for people’s experiences and actions in a range of different contexts.',\n   'tags': ['ann:summary']},\n  {'text': 'To Sit Quietly in a Room Alone: The Psychology of Social, Material, and Sensation Seeking Input',\n   'tags': ['ann:title']},\n  {'text': '2021-02-24', 'tags': ['has:date']},\n  {'text': '10.31234/osf.io/zpf6b', 'tags': ['ann:doi']},\n  {'text': 'https://twitter.com/PsyArXivBot/status/1364692436946190349',\n   'tags': ['has:context']}]}"
     },
     "execution_count": 74,
     "metadata": {},
     "output_type": "execute_result"
    }
   ],
   "source": [
    "def generate_document(df: pd.DataFrame) -> dict:\n",
    "    \"\"\"\n",
    "\n",
    "    :param df: This dataframe is actually a \"grouped-by\" dataframe, meaning that doc_id, uri, document and tags are the same for all rows\n",
    "    :return:\n",
    "    \"\"\"\n",
    "    assert len(df['doc_id'].unique()) == 1\n",
    "    assert len(df['uri'].unique()) == 1\n",
    "\n",
    "    if \"title\" in df[\"document\"].iloc[0]:\n",
    "        doc_title = df[\"document\"].iloc[0][\"title\"][0]\n",
    "    else:\n",
    "        doc_title = df[\"uri\"].iloc[0] # If there's not title, the title is the uri (also target__source)\n",
    "\n",
    "    document = {\n",
    "        \"_id\": df['doc_id'].iloc[0],\n",
    "        \"document_uri\": df[\"uri\"].iloc[0],\n",
    "        \"document\": doc_title,\n",
    "        \"tags\": [],\n",
    "        \"annotations\": []\n",
    "    }\n",
    "\n",
    "    for i, row in df.iterrows():\n",
    "        annotation = {}\n",
    "        # this is at level of document (first level)\n",
    "        document[\"tags\"] += row[\"tags\"]\n",
    "\n",
    "        # This is at level of annotation (second level)\n",
    "        annotation[\"text\"] =  row[\"text_\"]\n",
    "        annotation[\"tags\"] = row[\"tags\"]\n",
    "        document[\"annotations\"].append(annotation)\n",
    "\n",
    "    return document\n",
    "\n",
    "\n",
    "generate_document(mysample)"
   ],
   "metadata": {
    "collapsed": false
   }
  },
  {
   "cell_type": "code",
   "execution_count": 75,
   "outputs": [],
   "source": [
    "documents = []\n",
    "\n",
    "for doc_id in df['doc_id'].unique():\n",
    "    sub_df = df.query(\"doc_id == @doc_id\")\n",
    "    documents.append(generate_document(sub_df))\n"
   ],
   "metadata": {
    "collapsed": false
   }
  },
  {
   "cell_type": "code",
   "execution_count": 62,
   "outputs": [
    {
     "data": {
      "text/plain": "9001"
     },
     "execution_count": 62,
     "metadata": {},
     "output_type": "execute_result"
    }
   ],
   "source": [
    "\n",
    "len(documents)"
   ],
   "metadata": {
    "collapsed": false
   }
  },
  {
   "cell_type": "code",
   "execution_count": 71,
   "outputs": [],
   "source": [
    "\n"
   ],
   "metadata": {
    "collapsed": false
   }
  },
  {
   "cell_type": "code",
   "execution_count": 78,
   "outputs": [],
   "source": [
    "with open('hypothesis_documents_v1.jsonl', 'w') as f:\n",
    "    for doc in documents:\n",
    "        try:\n",
    "            f.write(json.dumps(doc, ensure_ascii=False) + '\\n')\n",
    "        except:\n",
    "            print(doc)\n",
    "            raise Exception"
   ],
   "metadata": {
    "collapsed": false
   }
  },
  {
   "cell_type": "code",
   "execution_count": null,
   "outputs": [],
   "source": [],
   "metadata": {
    "collapsed": false
   }
  },
  {
   "cell_type": "markdown",
   "source": [
    "### Object to ingest into Elastic Search"
   ],
   "metadata": {
    "collapsed": false
   }
  },
  {
   "cell_type": "code",
   "execution_count": 79,
   "outputs": [
    {
     "data": {
      "text/plain": "                                           _id  \\\n0     1bae7c2fba0901589c8732057a5e03123ee18657   \n1     d5624117db7c3567bfcbddfb1b724579fb7e1eca   \n2     a30f8a303e30393880dfd0689a13f06402201842   \n3     e593d53590429e8768fe9fc7bd8a95bcb23b361f   \n4     21ee2a5f5f60a6cf2fc48806f1957f043286b88d   \n...                                        ...   \n8996  05ad3e5aa298a69d665a8ef3bc87363035a418b2   \n8997  6ff14e396e1105f3336a893962f5eda4869c26c9   \n8998  23e00b7b9d6e4ff469335cd9903942490e4ffe8a   \n8999  0a70abf8eee47b640ce4f1cb47440460aafa919f   \n9000  9669f13195da25ceb2fe9f5604d552932ca58893   \n\n                                           document_uri  \\\n0     http://rocs.hu-berlin.de/corona/docs/forecast/...   \n1     https://www.reddit.com/r/BehSciResearch/commen...   \n2     http://www.the100.ci/2020/03/26/crisis-researc...   \n3     https://www.ncbi.nlm.nih.gov/research/coronavi...   \n4                               https://infotagion.com/   \n...                                                 ...   \n8996          https://www.tga.gov.au/reporting-problems   \n8997         https://www.bbc.co.uk/news/health-56479462   \n8998  https://www.theguardian.com/society/2021/apr/0...   \n8999  https://poseidon01.ssrn.com/delivery.php?ID=05...   \n9000  https://252f2edd-1c8b-49f5-9bb2-cb57bb47e4ba.f...   \n\n                                               document  \\\n0                                  Forecasts by Country   \n1     r/BehSciResearch - LitCovid: Curated literatur...   \n2                        Crisis research, fast and slow   \n3                           LitCovid - NCBI - NLM - NIH   \n4                                     Home - Infotagion   \n...                                                 ...   \n8996                    Report a problem or side effect   \n8997  Covid vaccine: US trial of AstraZeneca jab con...   \n8998  Long Covid: snapshot poll finds more than 1m p...   \n8999                  Microsoft Word - Parry et al.docx   \n9000        f4d9b9_fddbfb2a0c05461cb4bdce2892f3cad0.pdf   \n\n                                                   tags  \\\n0                      [models, epidemiology, forecast]   \n1                      [literature, research, curation]   \n2     [is:blog, lang:en, COVID-19, research, psychol...   \n3                      [literature, research, curation]   \n4                                                    []   \n...                                                 ...   \n8996  [is:webpage, lang:en, COVID-19, Australia, gov...   \n8997  [has:context, has:date, is:news, lang:en, COVI...   \n8998  [has:date, is:news, lang:en, COVID-19, long co...   \n8999  [has:date, is:preprint, lang:en, COVID-19, vac...   \n9000                                      [has:context]   \n\n                                            annotations  \n0     [{'text': '6-day forecasts of COVID-19 case co...  \n1     [{'text': 'LitCovid: Curated literature hub fo...  \n2     [{'text': 'the incentives are a gallery of pur...  \n3     [{'text': 'LitCovid is a curated literature hu...  \n4     [{'text': 'Infotagion seeks to fight the disin...  \n...                                                 ...  \n8996  [{'text': 'Report a problem or side effect | T...  \n8997  [{'text': 'https://twitter.com/HetanShah/statu...  \n8998  [{'text': '2021-04-01', 'tags': ['has:date']},...  \n8999  [{'text': '2021-03-31', 'tags': ['has:date']},...  \n9000  [{'text': 'https://www.counterhate.com/playboo...  \n\n[9001 rows x 5 columns]",
      "text/html": "<div>\n<style scoped>\n    .dataframe tbody tr th:only-of-type {\n        vertical-align: middle;\n    }\n\n    .dataframe tbody tr th {\n        vertical-align: top;\n    }\n\n    .dataframe thead th {\n        text-align: right;\n    }\n</style>\n<table border=\"1\" class=\"dataframe\">\n  <thead>\n    <tr style=\"text-align: right;\">\n      <th></th>\n      <th>_id</th>\n      <th>document_uri</th>\n      <th>document</th>\n      <th>tags</th>\n      <th>annotations</th>\n    </tr>\n  </thead>\n  <tbody>\n    <tr>\n      <th>0</th>\n      <td>1bae7c2fba0901589c8732057a5e03123ee18657</td>\n      <td>http://rocs.hu-berlin.de/corona/docs/forecast/...</td>\n      <td>Forecasts by Country</td>\n      <td>[models, epidemiology, forecast]</td>\n      <td>[{'text': '6-day forecasts of COVID-19 case co...</td>\n    </tr>\n    <tr>\n      <th>1</th>\n      <td>d5624117db7c3567bfcbddfb1b724579fb7e1eca</td>\n      <td>https://www.reddit.com/r/BehSciResearch/commen...</td>\n      <td>r/BehSciResearch - LitCovid: Curated literatur...</td>\n      <td>[literature, research, curation]</td>\n      <td>[{'text': 'LitCovid: Curated literature hub fo...</td>\n    </tr>\n    <tr>\n      <th>2</th>\n      <td>a30f8a303e30393880dfd0689a13f06402201842</td>\n      <td>http://www.the100.ci/2020/03/26/crisis-researc...</td>\n      <td>Crisis research, fast and slow</td>\n      <td>[is:blog, lang:en, COVID-19, research, psychol...</td>\n      <td>[{'text': 'the incentives are a gallery of pur...</td>\n    </tr>\n    <tr>\n      <th>3</th>\n      <td>e593d53590429e8768fe9fc7bd8a95bcb23b361f</td>\n      <td>https://www.ncbi.nlm.nih.gov/research/coronavi...</td>\n      <td>LitCovid - NCBI - NLM - NIH</td>\n      <td>[literature, research, curation]</td>\n      <td>[{'text': 'LitCovid is a curated literature hu...</td>\n    </tr>\n    <tr>\n      <th>4</th>\n      <td>21ee2a5f5f60a6cf2fc48806f1957f043286b88d</td>\n      <td>https://infotagion.com/</td>\n      <td>Home - Infotagion</td>\n      <td>[]</td>\n      <td>[{'text': 'Infotagion seeks to fight the disin...</td>\n    </tr>\n    <tr>\n      <th>...</th>\n      <td>...</td>\n      <td>...</td>\n      <td>...</td>\n      <td>...</td>\n      <td>...</td>\n    </tr>\n    <tr>\n      <th>8996</th>\n      <td>05ad3e5aa298a69d665a8ef3bc87363035a418b2</td>\n      <td>https://www.tga.gov.au/reporting-problems</td>\n      <td>Report a problem or side effect</td>\n      <td>[is:webpage, lang:en, COVID-19, Australia, gov...</td>\n      <td>[{'text': 'Report a problem or side effect | T...</td>\n    </tr>\n    <tr>\n      <th>8997</th>\n      <td>6ff14e396e1105f3336a893962f5eda4869c26c9</td>\n      <td>https://www.bbc.co.uk/news/health-56479462</td>\n      <td>Covid vaccine: US trial of AstraZeneca jab con...</td>\n      <td>[has:context, has:date, is:news, lang:en, COVI...</td>\n      <td>[{'text': 'https://twitter.com/HetanShah/statu...</td>\n    </tr>\n    <tr>\n      <th>8998</th>\n      <td>23e00b7b9d6e4ff469335cd9903942490e4ffe8a</td>\n      <td>https://www.theguardian.com/society/2021/apr/0...</td>\n      <td>Long Covid: snapshot poll finds more than 1m p...</td>\n      <td>[has:date, is:news, lang:en, COVID-19, long co...</td>\n      <td>[{'text': '2021-04-01', 'tags': ['has:date']},...</td>\n    </tr>\n    <tr>\n      <th>8999</th>\n      <td>0a70abf8eee47b640ce4f1cb47440460aafa919f</td>\n      <td>https://poseidon01.ssrn.com/delivery.php?ID=05...</td>\n      <td>Microsoft Word - Parry et al.docx</td>\n      <td>[has:date, is:preprint, lang:en, COVID-19, vac...</td>\n      <td>[{'text': '2021-03-31', 'tags': ['has:date']},...</td>\n    </tr>\n    <tr>\n      <th>9000</th>\n      <td>9669f13195da25ceb2fe9f5604d552932ca58893</td>\n      <td>https://252f2edd-1c8b-49f5-9bb2-cb57bb47e4ba.f...</td>\n      <td>f4d9b9_fddbfb2a0c05461cb4bdce2892f3cad0.pdf</td>\n      <td>[has:context]</td>\n      <td>[{'text': 'https://www.counterhate.com/playboo...</td>\n    </tr>\n  </tbody>\n</table>\n<p>9001 rows × 5 columns</p>\n</div>"
     },
     "execution_count": 79,
     "metadata": {},
     "output_type": "execute_result"
    }
   ],
   "source": [
    "pd.DataFrame(documents)"
   ],
   "metadata": {
    "collapsed": false
   }
  },
  {
   "cell_type": "markdown",
   "source": [
    "\n",
    "Data steps:\n",
    "\n",
    "1. data from hypothesis as DataFrame -> each row is an annotation. To get a document, we need to groupby uri (or doc_id)\n",
    "2. data from hypothesis transformed into \"documents\": a list of documents, where one document has a subfield \"annotations\", where annotations are. -> OUR REFERENCE\n",
    "3. objects to ingest in Elastic Search: one document => one dict => one annotation -> we want to create these objects out of (2)"
   ],
   "metadata": {
    "collapsed": false
   }
  },
  {
   "cell_type": "code",
   "execution_count": null,
   "outputs": [],
   "source": [],
   "metadata": {
    "collapsed": false
   }
  },
  {
   "cell_type": "markdown",
   "source": [
    " Instead of:\n",
    "(2)\n",
    "```\n",
    "documents = [\n",
    "    {\n",
    "        \"_id\": \"id\",  #\n",
    "        \"document_uri\": \"uri\", #from df\n",
    "        \"document \": \"document\", # from df,\n",
    "        \"tags\": [], # groupby uri -> concatenated lists of tags\n",
    "        \"annotations\": [ # groupby uri -> each row is dict for the columns \"text\", \"tags\", \"target\", \"links\"\n",
    "            {\n",
    "                \"ann_id\": \"id from the row\"\n",
    "                \"tags\": []\n",
    "                \"target\": [],\n",
    "                \"text\": str,\n",
    "                \"links\": dict\n",
    "            }, {\n",
    "\n",
    "            }\n",
    "        ]\n",
    "    }\n",
    "]\n",
    "```\n",
    "\n",
    "we'll use (3)\n",
    "document_es = {\n",
    "\n",
    "    \"_id\": doc_id + \"_\" + ann_id, (composition of original doc_id and ann_id)\n",
    "    \"parent_doc_id\": doc_id, (the id of the document to which this annotation belongs)\n",
    "    \"document_uri\": as they are in the original document\n",
    "    \"document\": as they are in the original document\n",
    "    \"ann_id\": annotations[\"ann_id\"],\n",
    "    \"tags\": annotations[\"tags\"], (not tags from the first level, for that specific annotation)\n",
    "    rest of the fields of that annotation as they are\n",
    "    ...\n",
    "\n",
    "}\n",
    "\n",
    "\n"
   ],
   "metadata": {
    "collapsed": false
   }
  },
  {
   "cell_type": "code",
   "execution_count": null,
   "outputs": [],
   "source": [],
   "metadata": {
    "collapsed": false
   }
  },
  {
   "cell_type": "code",
   "execution_count": null,
   "outputs": [],
   "source": [],
   "metadata": {
    "collapsed": false
   }
  },
  {
   "cell_type": "code",
   "execution_count": null,
   "outputs": [],
   "source": [],
   "metadata": {
    "collapsed": false
   }
  },
  {
   "cell_type": "code",
   "execution_count": null,
   "outputs": [],
   "source": [],
   "metadata": {
    "collapsed": false
   }
  },
  {
   "cell_type": "code",
   "execution_count": null,
   "outputs": [],
   "source": [],
   "metadata": {
    "collapsed": false
   }
  },
  {
   "cell_type": "code",
   "execution_count": null,
   "outputs": [],
   "source": [],
   "metadata": {
    "collapsed": false
   }
  },
  {
   "cell_type": "code",
   "execution_count": null,
   "outputs": [],
   "source": [],
   "metadata": {
    "collapsed": false
   }
  },
  {
   "cell_type": "code",
   "execution_count": 81,
   "outputs": [
    {
     "data": {
      "text/plain": "{'name': '3f4087d1a39c',\n 'cluster_name': 'docker-cluster',\n 'cluster_uuid': 'QFF8stEpQ8-skiG8rGAd-Q',\n 'version': {'number': '8.2.2',\n  'build_flavor': 'default',\n  'build_type': 'docker',\n  'build_hash': '9876968ef3c745186b94fdabd4483e01499224ef',\n  'build_date': '2022-05-25T15:47:06.259735307Z',\n  'build_snapshot': False,\n  'lucene_version': '9.1.0',\n  'minimum_wire_compatibility_version': '7.17.0',\n  'minimum_index_compatibility_version': '7.0.0'},\n 'tagline': 'You Know, for Search'}"
     },
     "execution_count": 81,
     "metadata": {},
     "output_type": "execute_result"
    }
   ],
   "source": [
    "requests.get(\"http://localhost:9200\").json()"
   ],
   "metadata": {
    "collapsed": false
   }
  },
  {
   "cell_type": "code",
   "execution_count": 83,
   "outputs": [],
   "source": [
    "url = \"http://localhost:9200\""
   ],
   "metadata": {
    "collapsed": false
   }
  },
  {
   "cell_type": "markdown",
   "source": [
    "### Indexing in Elastic Search -> TODO: create a proper index"
   ],
   "metadata": {
    "collapsed": false
   }
  },
  {
   "cell_type": "code",
   "execution_count": 86,
   "outputs": [],
   "source": [
    "from elasticsearch import Elasticsearch, helpers\n",
    "from random import getrandbits\n",
    "\n",
    "es_client = Elasticsearch(url)\n",
    "\n",
    "document_list = []\n",
    "for i in range(1,20):\n",
    "    document = {'my_field': str(getrandbits(64))[:3]} # generating a random number, transform into strings and\n",
    "    document_list.append(document)\n",
    "    if i % 10 == 0:\n",
    "        helpers.bulk(es_client, document_list, index='my_index')\n",
    "        document_list = []"
   ],
   "metadata": {
    "collapsed": false
   }
  },
  {
   "cell_type": "markdown",
   "source": [
    "### Search in Elastic Search"
   ],
   "metadata": {
    "collapsed": false
   }
  },
  {
   "cell_type": "code",
   "execution_count": 89,
   "outputs": [
    {
     "name": "stdout",
     "output_type": "stream",
     "text": [
      "{'took': 4, 'timed_out': False, '_shards': {'total': 1, 'successful': 1, 'skipped': 0, 'failed': 0}, 'hits': {'total': {'value': 14, 'relation': 'eq'}, 'max_score': 1.0, 'hits': [{'_index': 'my_index', '_id': 'NPTTLYcB9g_5kwuWliJa', '_score': 1.0, '_source': {'my_field': 4783497421765913410}}, {'_index': 'my_index', '_id': 'NfTTLYcB9g_5kwuWliJc', '_score': 1.0, '_source': {'my_field': 611515340784470656}}, {'_index': 'my_index', '_id': 'NvTTLYcB9g_5kwuWliJc', '_score': 1.0, '_source': {'my_field': 7601591948758105214}}, {'_index': 'my_index', '_id': 'PPTTLYcB9g_5kwuWliJc', '_score': 1.0, '_source': {'my_field': 3434233755871833250}}, {'_index': 'my_index', '_id': 'PvTTLYcB9g_5kwuW7yKW', '_score': 1.0, '_source': {'my_field': '696'}}, {'_index': 'my_index', '_id': 'P_TTLYcB9g_5kwuW7yKW', '_score': 1.0, '_source': {'my_field': '174'}}, {'_index': 'my_index', '_id': 'QPTTLYcB9g_5kwuW7yKW', '_score': 1.0, '_source': {'my_field': '177'}}, {'_index': 'my_index', '_id': 'QfTTLYcB9g_5kwuW7yKW', '_score': 1.0, '_source': {'my_field': '659'}}, {'_index': 'my_index', '_id': 'QvTTLYcB9g_5kwuW7yKW', '_score': 1.0, '_source': {'my_field': '221'}}, {'_index': 'my_index', '_id': 'Q_TTLYcB9g_5kwuW7yKW', '_score': 1.0, '_source': {'my_field': '713'}}]}}\n"
     ]
    }
   ],
   "source": [
    "from elasticsearch import Elasticsearch\n",
    "\n",
    "# Connect to Elasticsearch\n",
    "es = Elasticsearch()\n",
    "\n",
    "# Create an index called \"my_index\"\n",
    "#es.indices.create(index='my_index')\n",
    "\n",
    "# Add some data to the index\n",
    "es.index(index='my_index', id=1, body={'name': 'John Doe', 'age': 25})\n",
    "es.index(index='my_index', id=2, body={'name': 'Jane Smith', 'age': 30})\n",
    "es.index(index='my_index', id=3, body={'name': 'Bob Johnson', 'age': 40})\n",
    "\n"
   ],
   "metadata": {
    "collapsed": false
   }
  },
  {
   "cell_type": "code",
   "execution_count": 91,
   "outputs": [],
   "source": [
    "# Perform a search for all documents in the index\n",
    "search_results = es.search(index='my_index', body={'query': {'match_all': {}}}) # query language is probably NoSQL\n",
    "\n"
   ],
   "metadata": {
    "collapsed": false
   }
  },
  {
   "cell_type": "code",
   "execution_count": 92,
   "outputs": [
    {
     "data": {
      "text/plain": "{'took': 10,\n 'timed_out': False,\n '_shards': {'total': 1, 'successful': 1, 'skipped': 0, 'failed': 0},\n 'hits': {'total': {'value': 17, 'relation': 'eq'},\n  'max_score': 1.0,\n  'hits': [{'_index': 'my_index',\n    '_id': 'NPTTLYcB9g_5kwuWliJa',\n    '_score': 1.0,\n    '_source': {'my_field': 4783497421765913410}},\n   {'_index': 'my_index',\n    '_id': 'NfTTLYcB9g_5kwuWliJc',\n    '_score': 1.0,\n    '_source': {'my_field': 611515340784470656}},\n   {'_index': 'my_index',\n    '_id': 'NvTTLYcB9g_5kwuWliJc',\n    '_score': 1.0,\n    '_source': {'my_field': 7601591948758105214}},\n   {'_index': 'my_index',\n    '_id': 'PPTTLYcB9g_5kwuWliJc',\n    '_score': 1.0,\n    '_source': {'my_field': 3434233755871833250}},\n   {'_index': 'my_index',\n    '_id': 'PvTTLYcB9g_5kwuW7yKW',\n    '_score': 1.0,\n    '_source': {'my_field': '696'}},\n   {'_index': 'my_index',\n    '_id': 'P_TTLYcB9g_5kwuW7yKW',\n    '_score': 1.0,\n    '_source': {'my_field': '174'}},\n   {'_index': 'my_index',\n    '_id': 'QPTTLYcB9g_5kwuW7yKW',\n    '_score': 1.0,\n    '_source': {'my_field': '177'}},\n   {'_index': 'my_index',\n    '_id': 'QfTTLYcB9g_5kwuW7yKW',\n    '_score': 1.0,\n    '_source': {'my_field': '659'}},\n   {'_index': 'my_index',\n    '_id': 'QvTTLYcB9g_5kwuW7yKW',\n    '_score': 1.0,\n    '_source': {'my_field': '221'}},\n   {'_index': 'my_index',\n    '_id': 'Q_TTLYcB9g_5kwuW7yKW',\n    '_score': 1.0,\n    '_source': {'my_field': '713'}}]}}"
     },
     "execution_count": 92,
     "metadata": {},
     "output_type": "execute_result"
    }
   ],
   "source": [
    "# hits is the list of results that match the query\n",
    "search_results"
   ],
   "metadata": {
    "collapsed": false
   }
  },
  {
   "cell_type": "code",
   "execution_count": null,
   "outputs": [],
   "source": [],
   "metadata": {
    "collapsed": false
   }
  },
  {
   "cell_type": "code",
   "execution_count": null,
   "outputs": [],
   "source": [],
   "metadata": {
    "collapsed": false
   }
  },
  {
   "cell_type": "code",
   "execution_count": null,
   "outputs": [],
   "source": [],
   "metadata": {
    "collapsed": false
   }
  },
  {
   "cell_type": "code",
   "execution_count": null,
   "outputs": [],
   "source": [],
   "metadata": {
    "collapsed": false
   }
  }
 ],
 "metadata": {
  "kernelspec": {
   "display_name": "Python 3",
   "language": "python",
   "name": "python3"
  },
  "language_info": {
   "codemirror_mode": {
    "name": "ipython",
    "version": 2
   },
   "file_extension": ".py",
   "mimetype": "text/x-python",
   "name": "python",
   "nbconvert_exporter": "python",
   "pygments_lexer": "ipython2",
   "version": "2.7.6"
  }
 },
 "nbformat": 4,
 "nbformat_minor": 0
}
